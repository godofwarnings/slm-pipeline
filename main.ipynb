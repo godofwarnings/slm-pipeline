{
  "cells": [
    {
      "cell_type": "code",
      "execution_count": 1,
      "metadata": {},
      "outputs": [
        {
          "name": "stdout",
          "output_type": "stream",
          "text": [
            "Base directory: /home/radhikesh/Documents/chubb/angular-project-2\n",
            "Angular project path: /home/radhikesh/Documents/chubb/angular-project-2/angular-realworld-example-app\n",
            "Parser directory: /home/radhikesh/Documents/chubb/angular-project-2/angular_ast_parser\n",
            "Output directory: /home/radhikesh/Documents/chubb/angular-project-2/output\n",
            "Neo4j URI (for scripts): bolt://localhost:7687\n",
            "Neo4j Browser: http://localhost:7474/browser/\n"
          ]
        }
      ],
      "source": [
        "import os\n",
        "import subprocess\n",
        "import json\n",
        "import shutil\n",
        "from dotenv import load_dotenv\n",
        "from IPython.display import display, Markdown, Javascript\n",
        "import pandas as pd\n",
        "\n",
        "# Load environment variables (for Neo4j credentials primarily)\n",
        "load_dotenv()\n",
        "\n",
        "# --- Configuration ---\n",
        "ANGULAR_REPO_URL = \"https://github.com/gothinkster/angular-realworld-example-app.git\"\n",
        "ANGULAR_PROJECT_DIR_NAME = \"angular-realworld-example-app\" # the actual directory name\n",
        "BASE_DIR = os.getcwd() \n",
        "\n",
        "# CORRECTED PATH:\n",
        "ANGULAR_PROJECT_PATH = os.path.join(BASE_DIR, ANGULAR_PROJECT_DIR_NAME)\n",
        "\n",
        "PARSER_DIR = os.path.join(BASE_DIR, \"angular_ast_parser\")\n",
        "PYTHON_SCRIPTS_DIR = os.path.join(BASE_DIR, \"python_scripts\")\n",
        "OUTPUT_DIR = os.path.join(BASE_DIR, \"output\")\n",
        "PARSED_DATA_FILE = os.path.join(OUTPUT_DIR, \"parsed_angular_data.json\")\n",
        "\n",
        "# Neo4j connection details (used for display, actual connection is in scripts)\n",
        "NEO4J_URI = os.getenv(\"NEO4J_URI\", \"bolt://localhost:7687\")\n",
        "NEO4J_USER = os.getenv(\"NEO4J_USER\", \"neo4j\")\n",
        "NEO4J_BROWSER_URL = NEO4J_URI.replace(\"bolt://\", \"http://\").replace(\":7687\", \":7474/browser/\")\n",
        "\n",
        "print(f\"Base directory: {BASE_DIR}\")\n",
        "print(f\"Angular project path: {ANGULAR_PROJECT_PATH}\")\n",
        "print(f\"Parser directory: {PARSER_DIR}\")\n",
        "print(f\"Output directory: {OUTPUT_DIR}\")\n",
        "print(f\"Neo4j URI (for scripts): {NEO4J_URI}\")\n",
        "print(f\"Neo4j Browser: {NEO4J_BROWSER_URL}\")\n",
        "\n",
        "# Ensure output directory exists\n",
        "os.makedirs(OUTPUT_DIR, exist_ok=True)"
      ]
    },
    {
      "cell_type": "markdown",
      "metadata": {},
      "source": [
        "### Clone Angular Repository (if needed)"
      ]
    },
    {
      "cell_type": "code",
      "execution_count": 2,
      "metadata": {},
      "outputs": [
        {
          "name": "stdout",
          "output_type": "stream",
          "text": [
            "Target directory /home/radhikesh/Documents/chubb/angular-project-2/angular-realworld-example-app already exists. Skipping clone.\n"
          ]
        }
      ],
      "source": [
        "def clone_repo(repo_url, target_dir_name_in_base):\n",
        "    # target_dir is now the full path to where the repo should be\n",
        "    target_dir = os.path.join(BASE_DIR, target_dir_name_in_base)\n",
        "    \n",
        "    if os.path.exists(target_dir):\n",
        "        print(f\"Target directory {target_dir} already exists. Skipping clone.\")\n",
        "        # Optional: Add logic to pull latest changes if directory exists\n",
        "        # try:\n",
        "        #     print(f\"Pulling latest changes for {target_dir}...\")\n",
        "        #     subprocess.run([\"git\", \"pull\"], cwd=target_dir, check=True, capture_output=True, text=True)\n",
        "        # except subprocess.CalledProcessError as e:\n",
        "        #     print(f\"Error pulling latest changes: {e.stderr}\")\n",
        "        return\n",
        "    \n",
        "    # The parent directory for cloning is BASE_DIR, and git will create the target_dir_name_in_base directory.\n",
        "    print(f\"Cloning {repo_url} into {target_dir}...\")\n",
        "    try:\n",
        "        # Git clone will create a directory named after the repo, or you can specify the name\n",
        "        # We are specifying the target directory name to be ANGULAR_PROJECT_DIR_NAME\n",
        "        result = subprocess.run([\"git\", \"clone\", repo_url, target_dir_name_in_base], cwd=BASE_DIR, check=True, capture_output=True, text=True)\n",
        "        print(\"Repository cloned successfully.\")\n",
        "        print(result.stdout)\n",
        "    except subprocess.CalledProcessError as e:\n",
        "        print(f\"Error cloning repository: {e.stderr}\")\n",
        "        # Consider raising the error or handling it more gracefully\n",
        "        raise\n",
        "\n",
        "# Pass the desired directory name for the clone directly under BASE_DIR\n",
        "clone_repo(ANGULAR_REPO_URL, ANGULAR_PROJECT_DIR_NAME)"
      ]
    },
    {
      "cell_type": "markdown",
      "metadata": {},
      "source": [
        "### Inspect Parsed Data"
      ]
    },
    {
      "cell_type": "code",
      "execution_count": 4,
      "metadata": {},
      "outputs": [
        {
          "name": "stdout",
          "output_type": "stream",
          "text": [
            "Loaded parsed data. Number of nodes extracted: 75\n"
          ]
        },
        {
          "data": {
            "text/html": [
              "<div>\n",
              "<style scoped>\n",
              "    .dataframe tbody tr th:only-of-type {\n",
              "        vertical-align: middle;\n",
              "    }\n",
              "\n",
              "    .dataframe tbody tr th {\n",
              "        vertical-align: top;\n",
              "    }\n",
              "\n",
              "    .dataframe thead th {\n",
              "        text-align: right;\n",
              "    }\n",
              "</style>\n",
              "<table border=\"1\" class=\"dataframe\">\n",
              "  <thead>\n",
              "    <tr style=\"text-align: right;\">\n",
              "      <th></th>\n",
              "      <th>id</th>\n",
              "      <th>type</th>\n",
              "      <th>name</th>\n",
              "      <th>filePath</th>\n",
              "      <th>relationships</th>\n",
              "      <th>properties</th>\n",
              "    </tr>\n",
              "  </thead>\n",
              "  <tbody>\n",
              "    <tr>\n",
              "      <th>0</th>\n",
              "      <td>File:src/app/core/auth/services/jwt.service.ts</td>\n",
              "      <td>File</td>\n",
              "      <td>jwt.service.ts</td>\n",
              "      <td>src/app/core/auth/services/jwt.service.ts</td>\n",
              "      <td>[{'type': 'IMPORTS', 'targetId': 'External:@an...</td>\n",
              "      <td>NaN</td>\n",
              "    </tr>\n",
              "    <tr>\n",
              "      <th>1</th>\n",
              "      <td>Service:JwtService:src/app/core/auth/services/...</td>\n",
              "      <td>Service</td>\n",
              "      <td>JwtService</td>\n",
              "      <td>src/app/core/auth/services/jwt.service.ts</td>\n",
              "      <td>[]</td>\n",
              "      <td>{'providedIn': 'root'}</td>\n",
              "    </tr>\n",
              "    <tr>\n",
              "      <th>2</th>\n",
              "      <td>File:src/app/core/auth/user.model.ts</td>\n",
              "      <td>File</td>\n",
              "      <td>user.model.ts</td>\n",
              "      <td>src/app/core/auth/user.model.ts</td>\n",
              "      <td>[]</td>\n",
              "      <td>NaN</td>\n",
              "    </tr>\n",
              "    <tr>\n",
              "      <th>3</th>\n",
              "      <td>Interface:User:src/app/core/auth/user.model.ts</td>\n",
              "      <td>Interface</td>\n",
              "      <td>User</td>\n",
              "      <td>src/app/core/auth/user.model.ts</td>\n",
              "      <td>[]</td>\n",
              "      <td>NaN</td>\n",
              "    </tr>\n",
              "    <tr>\n",
              "      <th>4</th>\n",
              "      <td>File:src/app/core/auth/services/user.service.ts</td>\n",
              "      <td>File</td>\n",
              "      <td>user.service.ts</td>\n",
              "      <td>src/app/core/auth/services/user.service.ts</td>\n",
              "      <td>[{'type': 'IMPORTS', 'targetId': 'External:@an...</td>\n",
              "      <td>NaN</td>\n",
              "    </tr>\n",
              "  </tbody>\n",
              "</table>\n",
              "</div>"
            ],
            "text/plain": [
              "                                                  id       type  \\\n",
              "0     File:src/app/core/auth/services/jwt.service.ts       File   \n",
              "1  Service:JwtService:src/app/core/auth/services/...    Service   \n",
              "2               File:src/app/core/auth/user.model.ts       File   \n",
              "3     Interface:User:src/app/core/auth/user.model.ts  Interface   \n",
              "4    File:src/app/core/auth/services/user.service.ts       File   \n",
              "\n",
              "              name                                    filePath  \\\n",
              "0   jwt.service.ts   src/app/core/auth/services/jwt.service.ts   \n",
              "1       JwtService   src/app/core/auth/services/jwt.service.ts   \n",
              "2    user.model.ts             src/app/core/auth/user.model.ts   \n",
              "3             User             src/app/core/auth/user.model.ts   \n",
              "4  user.service.ts  src/app/core/auth/services/user.service.ts   \n",
              "\n",
              "                                       relationships              properties  \n",
              "0  [{'type': 'IMPORTS', 'targetId': 'External:@an...                     NaN  \n",
              "1                                                 []  {'providedIn': 'root'}  \n",
              "2                                                 []                     NaN  \n",
              "3                                                 []                     NaN  \n",
              "4  [{'type': 'IMPORTS', 'targetId': 'External:@an...                     NaN  "
            ]
          },
          "metadata": {},
          "output_type": "display_data"
        }
      ],
      "source": [
        "if os.path.exists(PARSED_DATA_FILE):\n",
        "    with open(PARSED_DATA_FILE, 'r') as f:\n",
        "        parsed_data = json.load(f)\n",
        "    print(f\"Loaded parsed data. Number of nodes extracted: {len(parsed_data.get('nodes', []))}\")\n",
        "    if parsed_data.get('nodes'):\n",
        "        display(pd.DataFrame(parsed_data['nodes'][:5]))\n",
        "else:\n",
        "    print(f\"{PARSED_DATA_FILE} not found. Skipping inspection.\")"
      ]
    },
    {
      "cell_type": "markdown",
      "metadata": {},
      "source": [
        "## 2. Load Data into Neo4j\n",
        "\n",
        "Run the Python script to populate the Neo4j database. Ensure Neo4j server is running."
      ]
    },
    {
      "cell_type": "code",
      "execution_count": 5,
      "metadata": {},
      "outputs": [
        {
          "name": "stdout",
          "output_type": "stream",
          "text": [
            "Running Neo4j loader...\n",
            "Executing Neo4j loader command: python /home/radhikesh/Documents/chubb/angular-project-2/python_scripts/neo4j_loader.py --file /home/radhikesh/Documents/chubb/angular-project-2/output/parsed_angular_data.json --clear\n",
            "Neo4j loader finished.\n",
            "--- Loader STDOUT ---\n",
            "\n",
            "--- Loader STDERR ---\n",
            "2025-06-06 20:30:47,783 - INFO - Successfully connected to Neo4j at bolt://localhost:7687\n",
            "2025-06-06 20:30:48,137 - INFO - Ensured AngularEntity.id uniqueness constraint.\n",
            "2025-06-06 20:30:48,173 - INFO - Received notification from DBMS server: {severity: INFORMATION} {code: Neo.ClientNotification.Schema.IndexOrConstraintAlreadyExists} {category: SCHEMA} {title: `CREATE CONSTRAINT IF NOT EXISTS FOR (e:AngularEntity) REQUIRE (e.id) IS UNIQUE` has no effect.} {description: `CONSTRAINT constraint_b6c067e2 FOR (e:AngularEntity) REQUIRE (e.id) IS UNIQUE` already exists.} {position: None} for query: 'CREATE CONSTRAINT IF NOT EXISTS FOR (n:AngularEntity) REQUIRE n.id IS UNIQUE'\n",
            "2025-06-06 20:30:48,173 - INFO - Clearing existing database...\n",
            "2025-06-06 20:30:48,646 - INFO - Database cleared.\n",
            "2025-06-06 20:30:48,646 - INFO - Starting to load 75 nodes into Neo4j.\n",
            "2025-06-06 20:30:49,608 - INFO - Successfully created/merged 75 nodes.\n",
            "2025-06-06 20:30:51,785 - INFO - Successfully created/merged 247 explicit relationships.\n",
            "2025-06-06 20:30:51,785 - INFO - Successfully created/merged 35 DEFINED_IN relationships.\n",
            "2025-06-06 20:30:51,787 - INFO - Neo4j connection closed.\n",
            "\n"
          ]
        },
        {
          "data": {
            "text/markdown": [
              "<font color='green'>**Neo4j data loading completed.**</font> You can inspect the graph at [http://localhost:7474/browser/](http://localhost:7474/browser/)"
            ],
            "text/plain": [
              "<IPython.core.display.Markdown object>"
            ]
          },
          "metadata": {},
          "output_type": "display_data"
        }
      ],
      "source": [
        "def run_neo4j_loader(python_scripts_path, parsed_data_file, clear_db=True):\n",
        "    print(\"Running Neo4j loader...\")\n",
        "    if not os.path.exists(parsed_data_file):\n",
        "        print(f\"Error: Parsed data file {parsed_data_file} not found. Cannot load into Neo4j.\")\n",
        "        return False\n",
        "        \n",
        "    loader_script = os.path.join(python_scripts_path, \"neo4j_loader.py\")\n",
        "    command = [\"python\", loader_script, \"--file\", parsed_data_file]\n",
        "    if clear_db:\n",
        "        command.append(\"--clear\")\n",
        "    \n",
        "    try:\n",
        "        print(f\"Executing Neo4j loader command: {' '.join(command)}\")\n",
        "        result = subprocess.run(command, check=True, capture_output=True, text=True, cwd=BASE_DIR)\n",
        "        print(\"Neo4j loader finished.\")\n",
        "        print(\"--- Loader STDOUT ---\")\n",
        "        print(result.stdout)\n",
        "        if result.stderr:\n",
        "            print(\"--- Loader STDERR ---\")\n",
        "            print(result.stderr)\n",
        "        return True\n",
        "    except subprocess.CalledProcessError as e:\n",
        "        print(f\"Neo4j loader script failed: {e}\")\n",
        "        print(f\"Stdout:\\n{e.stdout}\")\n",
        "        print(f\"Stderr:\\n{e.stderr}\")\n",
        "        return False\n",
        "    except FileNotFoundError:\n",
        "        print(f\"Error: Python interpreter or script {loader_script} not found.\")\n",
        "        return False\n",
        "\n",
        "# Set clear_db=True to wipe Neo4j before loading. Set to False to append/update.\n",
        "if not run_neo4j_loader(PYTHON_SCRIPTS_DIR, PARSED_DATA_FILE, clear_db=True):\n",
        "    display(Markdown(\"<font color='red'>**Neo4j data loading failed. Check logs above.**</font>\"))\n",
        "else:\n",
        "    display(Markdown(f\"<font color='green'>**Neo4j data loading completed.**</font> You can inspect the graph at [{NEO4J_BROWSER_URL}]({NEO4J_BROWSER_URL})\"))"
      ]
    },
    {
      "cell_type": "markdown",
      "metadata": {},
      "source": [
        "## 3. Export Graph Structure and Data Model\n",
        "\n",
        "Run the Python script to export `architecture.json`, `architecture_schema.json`, `data_model.json`, and `data_model_schema.json`."
      ]
    },
    {
      "cell_type": "code",
      "execution_count": 6,
      "metadata": {},
      "outputs": [
        {
          "name": "stdout",
          "output_type": "stream",
          "text": [
            "Running graph exporter...\n",
            "Executing graph exporter command: python /home/radhikesh/Documents/chubb/angular-project-2/python_scripts/graph_exporter.py\n",
            "Graph exporter finished.\n",
            "--- Exporter STDOUT ---\n",
            "\n",
            "--- Exporter STDERR ---\n",
            "2025-06-06 20:30:52,173 - INFO - graph_exporter.py:25 - Output directory configured to: /home/radhikesh/Documents/chubb/angular-project-2/output\n",
            "2025-06-06 20:30:52,173 - INFO - graph_exporter.py:44 - Output directory /home/radhikesh/Documents/chubb/angular-project-2/output already exists.\n",
            "2025-06-06 20:30:52,173 - INFO - graph_exporter.py:591 - graph_exporter.py script started.\n",
            "2025-06-06 20:30:52,173 - INFO - graph_exporter.py:600 - Successfully wrote startup test file to /home/radhikesh/Documents/chubb/angular-project-2/output/startup_test_output.txt\n",
            "2025-06-06 20:30:52,173 - INFO - graph_exporter.py:602 - Removed startup test file /home/radhikesh/Documents/chubb/angular-project-2/output/startup_test_output.txt\n",
            "2025-06-06 20:30:52,173 - INFO - graph_exporter.py:53 - Attempting to connect to Neo4j: URI=bolt://localhost:7687, User=neo4j\n",
            "2025-06-06 20:30:52,179 - INFO - graph_exporter.py:59 - Successfully connected to Neo4j at bolt://localhost:7687 for export.\n",
            "2025-06-06 20:30:52,179 - INFO - graph_exporter.py:152 - Starting export_architecture_schema function...\n",
            "2025-06-06 20:30:52,179 - INFO - graph_exporter.py:156 - Querying Neo4j for distinct node types and sample properties...\n",
            "2025-06-06 20:30:52,346 - INFO - graph_exporter.py:169 - Found 6 distinct primary node types from query.\n",
            "2025-06-06 20:30:52,346 - INFO - graph_exporter.py:187 - Querying Neo4j for ExternalOrUnresolved node properties...\n",
            "2025-06-06 20:30:52,387 - INFO - graph_exporter.py:201 - Processed ExternalOrUnresolved type for architecture.\n",
            "2025-06-06 20:30:52,387 - INFO - graph_exporter.py:212 - Querying Neo4j for distinct relationship types and sample properties...\n",
            "2025-06-06 20:30:52,441 - INFO - graph_exporter.py:224 - Found 4 distinct relationship types from query.\n",
            "2025-06-06 20:30:52,442 - INFO - graph_exporter.py:247 - Attempting to write architecture data to: /home/radhikesh/Documents/chubb/angular-project-2/output/architecture.json\n",
            "2025-06-06 20:30:52,442 - INFO - graph_exporter.py:251 - Successfully exported graph schema to /home/radhikesh/Documents/chubb/angular-project-2/output/architecture.json\n",
            "2025-06-06 20:30:52,442 - INFO - graph_exporter.py:255 - Generating JSON schema for architecture.json...\n",
            "2025-06-06 20:30:52,442 - INFO - graph_exporter.py:314 - Attempting to write architecture_schema.json to: /home/radhikesh/Documents/chubb/angular-project-2/output/architecture_schema.json\n",
            "2025-06-06 20:30:52,442 - INFO - graph_exporter.py:319 - Successfully exported graph schema's JSON schema to /home/radhikesh/Documents/chubb/angular-project-2/output/architecture_schema.json\n",
            "2025-06-06 20:30:52,442 - INFO - graph_exporter.py:326 - Finished export_architecture_schema function.\n",
            "2025-06-06 20:30:52,442 - INFO - graph_exporter.py:330 - Starting export_data_model function...\n",
            "2025-06-06 20:30:52,442 - INFO - graph_exporter.py:336 - Querying Neo4j for all nodes...\n",
            "2025-06-06 20:30:52,535 - INFO - graph_exporter.py:353 - Retrieved 150 nodes from Neo4j.\n",
            "2025-06-06 20:30:52,535 - INFO - graph_exporter.py:385 - Querying Neo4j for all relationships...\n",
            "2025-06-06 20:30:52,588 - INFO - graph_exporter.py:398 - Retrieved 282 relationships from Neo4j.\n",
            "2025-06-06 20:30:52,589 - INFO - graph_exporter.py:428 - Attempting to write data_model.json to: /home/radhikesh/Documents/chubb/angular-project-2/output/data_model.json\n",
            "2025-06-06 20:30:52,592 - INFO - graph_exporter.py:432 - Successfully exported full data model to /home/radhikesh/Documents/chubb/angular-project-2/output/data_model.json\n",
            "2025-06-06 20:30:52,592 - INFO - graph_exporter.py:436 - Generating JSON schema for data_model.json...\n",
            "2025-06-06 20:30:52,592 - INFO - graph_exporter.py:575 - Attempting to write data_model_schema.json to: /home/radhikesh/Documents/chubb/angular-project-2/output/data_model_schema.json\n",
            "2025-06-06 20:30:52,592 - INFO - graph_exporter.py:580 - Successfully exported data model's JSON schema to /home/radhikesh/Documents/chubb/angular-project-2/output/data_model_schema.json\n",
            "2025-06-06 20:30:52,592 - INFO - graph_exporter.py:587 - Finished export_data_model function.\n",
            "2025-06-06 20:30:52,592 - INFO - graph_exporter.py:614 - All export functions completed.\n",
            "2025-06-06 20:30:52,593 - INFO - graph_exporter.py:623 - Neo4j connection closed after export.\n",
            "2025-06-06 20:30:52,593 - INFO - graph_exporter.py:626 - graph_exporter.py script finished.\n",
            "\n",
            "All expected JSON export files were created successfully.\n"
          ]
        },
        {
          "data": {
            "text/markdown": [
              "<font color='green'>**Graph exporting completed successfully.**</font> Check the `output` directory."
            ],
            "text/plain": [
              "<IPython.core.display.Markdown object>"
            ]
          },
          "metadata": {},
          "output_type": "display_data"
        }
      ],
      "source": [
        "def run_graph_exporter(python_scripts_path):\n",
        "    print(\"Running graph exporter...\")\n",
        "    exporter_script = os.path.join(python_scripts_path, \"graph_exporter.py\")\n",
        "    command = [\"python\", exporter_script]\n",
        "    \n",
        "    try:\n",
        "        print(f\"Executing graph exporter command: {' '.join(command)}\")\n",
        "        result = subprocess.run(command, check=True, capture_output=True, text=True, cwd=BASE_DIR)\n",
        "        print(\"Graph exporter finished.\")\n",
        "        print(\"--- Exporter STDOUT ---\")\n",
        "        print(result.stdout)\n",
        "        if result.stderr:\n",
        "            print(\"--- Exporter STDERR ---\")\n",
        "            print(result.stderr)\n",
        "        \n",
        "        # Verify file creation\n",
        "        expected_files = [\n",
        "            os.path.join(OUTPUT_DIR, \"architecture.json\"),\n",
        "            os.path.join(OUTPUT_DIR, \"architecture_schema.json\"),\n",
        "            os.path.join(OUTPUT_DIR, \"data_model.json\"),\n",
        "            os.path.join(OUTPUT_DIR, \"data_model_schema.json\")\n",
        "        ]\n",
        "        all_files_exist = True\n",
        "        for f_path in expected_files:\n",
        "            if not os.path.exists(f_path):\n",
        "                print(f\"Error: Expected file {f_path} was not created.\")\n",
        "                all_files_exist = False\n",
        "        if all_files_exist:\n",
        "            print(\"All expected JSON export files were created successfully.\")\n",
        "            return True\n",
        "        else:\n",
        "            return False\n",
        "            \n",
        "    except subprocess.CalledProcessError as e:\n",
        "        print(f\"Graph exporter script failed: {e}\")\n",
        "        print(f\"Stdout:\\n{e.stdout}\")\n",
        "        print(f\"Stderr:\\n{e.stderr}\")\n",
        "        return False\n",
        "    except FileNotFoundError:\n",
        "        print(f\"Error: Python interpreter or script {exporter_script} not found.\")\n",
        "        return False\n",
        "\n",
        "if not run_graph_exporter(PYTHON_SCRIPTS_DIR):\n",
        "    display(Markdown(\"<font color='red'>**Graph exporting failed. Check logs above.**</font>\"))\n",
        "else:\n",
        "    display(Markdown(\"<font color='green'>**Graph exporting completed successfully.**</font> Check the `output` directory.\"))"
      ]
    },
    {
      "cell_type": "markdown",
      "metadata": {},
      "source": [
        "## 4. Graph Visualization and Sample Queries (using py2neo or neo4j driver)\n",
        "\n",
        "This section demonstrates how to connect to Neo4j from Python within the notebook and run some queries. For rich, interactive graph visualization, the Neo4j Browser is often preferred. We can also use libraries like `pyvis` or `igraph` for basic plotting here."
      ]
    },
    {
      "cell_type": "code",
      "execution_count": 7,
      "metadata": {},
      "outputs": [
        {
          "name": "stdout",
          "output_type": "stream",
          "text": [
            "Connected to Neo4j for querying.\n"
          ]
        },
        {
          "data": {
            "text/markdown": [
              "### Node Types and Counts:"
            ],
            "text/plain": [
              "<IPython.core.display.Markdown object>"
            ]
          },
          "metadata": {},
          "output_type": "display_data"
        },
        {
          "data": {
            "text/html": [
              "<div>\n",
              "<style scoped>\n",
              "    .dataframe tbody tr th:only-of-type {\n",
              "        vertical-align: middle;\n",
              "    }\n",
              "\n",
              "    .dataframe tbody tr th {\n",
              "        vertical-align: top;\n",
              "    }\n",
              "\n",
              "    .dataframe thead th {\n",
              "        text-align: right;\n",
              "    }\n",
              "</style>\n",
              "<table border=\"1\" class=\"dataframe\">\n",
              "  <thead>\n",
              "    <tr style=\"text-align: right;\">\n",
              "      <th></th>\n",
              "      <th>NodeType</th>\n",
              "      <th>Count</th>\n",
              "    </tr>\n",
              "  </thead>\n",
              "  <tbody>\n",
              "    <tr>\n",
              "      <th>0</th>\n",
              "      <td>[File, AngularEntity]</td>\n",
              "      <td>40</td>\n",
              "    </tr>\n",
              "    <tr>\n",
              "      <th>1</th>\n",
              "      <td>[Component, AngularEntity]</td>\n",
              "      <td>18</td>\n",
              "    </tr>\n",
              "    <tr>\n",
              "      <th>2</th>\n",
              "      <td>[AngularEntity, Interface]</td>\n",
              "      <td>9</td>\n",
              "    </tr>\n",
              "    <tr>\n",
              "      <th>3</th>\n",
              "      <td>[Service, AngularEntity]</td>\n",
              "      <td>6</td>\n",
              "    </tr>\n",
              "    <tr>\n",
              "      <th>4</th>\n",
              "      <td>[AngularEntity, Directive]</td>\n",
              "      <td>1</td>\n",
              "    </tr>\n",
              "    <tr>\n",
              "      <th>5</th>\n",
              "      <td>[AngularEntity, Pipe]</td>\n",
              "      <td>1</td>\n",
              "    </tr>\n",
              "  </tbody>\n",
              "</table>\n",
              "</div>"
            ],
            "text/plain": [
              "                     NodeType  Count\n",
              "0       [File, AngularEntity]     40\n",
              "1  [Component, AngularEntity]     18\n",
              "2  [AngularEntity, Interface]      9\n",
              "3    [Service, AngularEntity]      6\n",
              "4  [AngularEntity, Directive]      1\n",
              "5       [AngularEntity, Pipe]      1"
            ]
          },
          "metadata": {},
          "output_type": "display_data"
        },
        {
          "data": {
            "text/markdown": [
              "### Components and Injected Services (Sample):"
            ],
            "text/plain": [
              "<IPython.core.display.Markdown object>"
            ]
          },
          "metadata": {},
          "output_type": "display_data"
        },
        {
          "data": {
            "text/html": [
              "<div>\n",
              "<style scoped>\n",
              "    .dataframe tbody tr th:only-of-type {\n",
              "        vertical-align: middle;\n",
              "    }\n",
              "\n",
              "    .dataframe tbody tr th {\n",
              "        vertical-align: top;\n",
              "    }\n",
              "\n",
              "    .dataframe thead th {\n",
              "        text-align: right;\n",
              "    }\n",
              "</style>\n",
              "<table border=\"1\" class=\"dataframe\">\n",
              "  <thead>\n",
              "    <tr style=\"text-align: right;\">\n",
              "      <th></th>\n",
              "      <th>Component</th>\n",
              "      <th>InjectedService</th>\n",
              "      <th>ServiceFile</th>\n",
              "    </tr>\n",
              "  </thead>\n",
              "  <tbody>\n",
              "    <tr>\n",
              "      <th>0</th>\n",
              "      <td>ArticleComponent</td>\n",
              "      <td>UserService</td>\n",
              "      <td>src/app/core/auth/services/user.service.ts</td>\n",
              "    </tr>\n",
              "    <tr>\n",
              "      <th>1</th>\n",
              "      <td>EditorComponent</td>\n",
              "      <td>UserService</td>\n",
              "      <td>src/app/core/auth/services/user.service.ts</td>\n",
              "    </tr>\n",
              "    <tr>\n",
              "      <th>2</th>\n",
              "      <td>ProfileComponent</td>\n",
              "      <td>UserService</td>\n",
              "      <td>src/app/core/auth/services/user.service.ts</td>\n",
              "    </tr>\n",
              "    <tr>\n",
              "      <th>3</th>\n",
              "      <td>FollowButtonComponent</td>\n",
              "      <td>UserService</td>\n",
              "      <td>src/app/core/auth/services/user.service.ts</td>\n",
              "    </tr>\n",
              "    <tr>\n",
              "      <th>4</th>\n",
              "      <td>SettingsComponent</td>\n",
              "      <td>UserService</td>\n",
              "      <td>src/app/core/auth/services/user.service.ts</td>\n",
              "    </tr>\n",
              "    <tr>\n",
              "      <th>5</th>\n",
              "      <td>AuthComponent</td>\n",
              "      <td>UserService</td>\n",
              "      <td>src/app/core/auth/services/user.service.ts</td>\n",
              "    </tr>\n",
              "    <tr>\n",
              "      <th>6</th>\n",
              "      <td>HomeComponent</td>\n",
              "      <td>UserService</td>\n",
              "      <td>src/app/core/auth/services/user.service.ts</td>\n",
              "    </tr>\n",
              "    <tr>\n",
              "      <th>7</th>\n",
              "      <td>FavoriteButtonComponent</td>\n",
              "      <td>UserService</td>\n",
              "      <td>src/app/core/auth/services/user.service.ts</td>\n",
              "    </tr>\n",
              "    <tr>\n",
              "      <th>8</th>\n",
              "      <td>ArticleComponent</td>\n",
              "      <td>ArticlesService</td>\n",
              "      <td>src/app/features/article/services/articles.ser...</td>\n",
              "    </tr>\n",
              "    <tr>\n",
              "      <th>9</th>\n",
              "      <td>EditorComponent</td>\n",
              "      <td>ArticlesService</td>\n",
              "      <td>src/app/features/article/services/articles.ser...</td>\n",
              "    </tr>\n",
              "  </tbody>\n",
              "</table>\n",
              "</div>"
            ],
            "text/plain": [
              "                 Component  InjectedService  \\\n",
              "0         ArticleComponent      UserService   \n",
              "1          EditorComponent      UserService   \n",
              "2         ProfileComponent      UserService   \n",
              "3    FollowButtonComponent      UserService   \n",
              "4        SettingsComponent      UserService   \n",
              "5            AuthComponent      UserService   \n",
              "6            HomeComponent      UserService   \n",
              "7  FavoriteButtonComponent      UserService   \n",
              "8         ArticleComponent  ArticlesService   \n",
              "9          EditorComponent  ArticlesService   \n",
              "\n",
              "                                         ServiceFile  \n",
              "0         src/app/core/auth/services/user.service.ts  \n",
              "1         src/app/core/auth/services/user.service.ts  \n",
              "2         src/app/core/auth/services/user.service.ts  \n",
              "3         src/app/core/auth/services/user.service.ts  \n",
              "4         src/app/core/auth/services/user.service.ts  \n",
              "5         src/app/core/auth/services/user.service.ts  \n",
              "6         src/app/core/auth/services/user.service.ts  \n",
              "7         src/app/core/auth/services/user.service.ts  \n",
              "8  src/app/features/article/services/articles.ser...  \n",
              "9  src/app/features/article/services/articles.ser...  "
            ]
          },
          "metadata": {},
          "output_type": "display_data"
        },
        {
          "name": "stderr",
          "output_type": "stream",
          "text": [
            "Received notification from DBMS server: {severity: WARNING} {code: Neo.ClientNotification.Statement.UnknownRelationshipTypeWarning} {category: UNRECOGNIZED} {title: The provided relationship type is not in the database.} {description: One of the relationship types in your query is not available in the database, make sure you didn't misspell it or that the label is available when you run this statement in your application (the missing relationship type is: DECLARES)} {position: line: 2, column: 32, offset: 32} for query: '\\n            MATCH (m:Module)-[:DECLARES]->(d)\\n            RETURN m.name AS Module, d.name AS DeclaredEntity, labels(d) as EntityType\\n            LIMIT 10\\n            '\n"
          ]
        },
        {
          "data": {
            "text/markdown": [
              "### Modules and Declared Entities (Sample):"
            ],
            "text/plain": [
              "<IPython.core.display.Markdown object>"
            ]
          },
          "metadata": {},
          "output_type": "display_data"
        },
        {
          "data": {
            "text/html": [
              "<div>\n",
              "<style scoped>\n",
              "    .dataframe tbody tr th:only-of-type {\n",
              "        vertical-align: middle;\n",
              "    }\n",
              "\n",
              "    .dataframe tbody tr th {\n",
              "        vertical-align: top;\n",
              "    }\n",
              "\n",
              "    .dataframe thead th {\n",
              "        text-align: right;\n",
              "    }\n",
              "</style>\n",
              "<table border=\"1\" class=\"dataframe\">\n",
              "  <thead>\n",
              "    <tr style=\"text-align: right;\">\n",
              "      <th></th>\n",
              "    </tr>\n",
              "  </thead>\n",
              "  <tbody>\n",
              "  </tbody>\n",
              "</table>\n",
              "</div>"
            ],
            "text/plain": [
              "Empty DataFrame\n",
              "Columns: []\n",
              "Index: []"
            ]
          },
          "metadata": {},
          "output_type": "display_data"
        }
      ],
      "source": [
        "from neo4j import GraphDatabase\n",
        "\n",
        "NEO4J_PASSWORD = os.getenv(\"NEO4J_PASSWORD\")\n",
        "\n",
        "if not NEO4J_PASSWORD:\n",
        "    print(\"NEO4J_PASSWORD not set in .env file. Skipping direct Neo4j connection.\")\n",
        "else:\n",
        "    try:\n",
        "        driver = GraphDatabase.driver(NEO4J_URI, auth=(NEO4J_USER, NEO4J_PASSWORD), encrypted=False) # Adjust encrypted=True for SSL\n",
        "        \n",
        "        def run_query(tx, query, params=None):\n",
        "            result = tx.run(query, params)\n",
        "            return [record for record in result]\n",
        "\n",
        "        with driver.session() as session:\n",
        "            print(\"Connected to Neo4j for querying.\")\n",
        "            \n",
        "            # Example Query 1: Count node types\n",
        "            query1 = \"MATCH (n:AngularEntity) RETURN labels(n) AS NodeType, count(*) AS Count ORDER BY Count DESC\"\n",
        "            results1 = session.execute_read(run_query, query1)\n",
        "            df1 = pd.DataFrame([dict(record) for record in results1])\n",
        "            display(Markdown(\"### Node Types and Counts:\"))\n",
        "            display(df1)\n",
        "\n",
        "            # Example Query 2: Components and their injected services\n",
        "            query2 = \"\"\"\n",
        "            MATCH (c:Component)-[:INJECTS]->(s:Service)\n",
        "            RETURN c.name AS Component, s.name AS InjectedService, s.filePath AS ServiceFile\n",
        "            LIMIT 10\n",
        "            \"\"\"\n",
        "            results2 = session.execute_read(run_query, query2)\n",
        "            df2 = pd.DataFrame([dict(record) for record in results2])\n",
        "            display(Markdown(\"### Components and Injected Services (Sample):\"))\n",
        "            display(df2)\n",
        "            \n",
        "            # Example Query 3: Modules and their declarations\n",
        "            query3 = \"\"\"\n",
        "            MATCH (m:Module)-[:DECLARES]->(d)\n",
        "            RETURN m.name AS Module, d.name AS DeclaredEntity, labels(d) as EntityType\n",
        "            LIMIT 10\n",
        "            \"\"\"\n",
        "            results3 = session.execute_read(run_query, query3)\n",
        "            df3 = pd.DataFrame([dict(record) for record in results3])\n",
        "            display(Markdown(\"### Modules and Declared Entities (Sample):\"))\n",
        "            display(df3)\n",
        "\n",
        "    except Exception as e:\n",
        "        print(f\"Error connecting to or querying Neo4j: {e}\")\n",
        "        display(Markdown(f\"<font color='orange'>Could not connect to Neo4j directly from notebook: {e}. You can still use Neo4j Browser.</font>\"))\n",
        "    finally:\n",
        "        if 'driver' in locals() and driver:\n",
        "            driver.close()"
      ]
    },
    {
      "cell_type": "markdown",
      "metadata": {},
      "source": [
        "### Basic Graph Visualization (using pyvis)"
      ]
    },
    {
      "cell_type": "code",
      "execution_count": 8,
      "metadata": {},
      "outputs": [
        {
          "name": "stderr",
          "output_type": "stream",
          "text": [
            "Received notification from DBMS server: {severity: WARNING} {code: Neo.ClientNotification.Statement.UnknownRelationshipTypeWarning} {category: UNRECOGNIZED} {title: The provided relationship type is not in the database.} {description: One of the relationship types in your query is not available in the database, make sure you didn't misspell it or that the label is available when you run this statement in your application (the missing relationship type is: DECLARES)} {position: line: 4, column: 43, offset: 163} for query: \"\\n            MATCH (c:Component {name: 'ArticleListComponent'})\\n            OPTIONAL MATCH (c)-[r1:INJECTS]->(s:Service)\\n            OPTIONAL MATCH (m:Module)-[r2:DECLARES]->(c)\\n            OPTIONAL MATCH (c)-[r3:DEFINED_IN]->(f1:File)\\n            OPTIONAL MATCH (s)-[r4:DEFINED_IN]->(f2:File)\\n            OPTIONAL MATCH (m)-[r5:DEFINED_IN]->(f3:File)\\n            RETURN c, r1, s, m, r2, r3, f1, r4, f2, r5, f3\\n            \"\n"
          ]
        },
        {
          "name": "stdout",
          "output_type": "stream",
          "text": [
            "Error during pyvis visualization: non existent node '4:95f7362c-4d9f-4d67-9dc0-c8fffb720ba4:138'\n"
          ]
        }
      ],
      "source": [
        "try:\n",
        "    from pyvis.network import Network\n",
        "    PYVIS_AVAILABLE = True\n",
        "except ImportError:\n",
        "    PYVIS_AVAILABLE = False\n",
        "    print(\"pyvis library not found. Skipping pyvis visualization. To install: pip install pyvis\")\n",
        "\n",
        "if PYVIS_AVAILABLE and NEO4J_PASSWORD:\n",
        "    try:\n",
        "        driver = GraphDatabase.driver(NEO4J_URI, auth=(NEO4J_USER, NEO4J_PASSWORD), encrypted=False)\n",
        "        with driver.session() as session:\n",
        "            # Fetch a small subgraph for visualization\n",
        "            # Example: A specific component, its injections, and the module it's declared in\n",
        "            # Choose a component name that exists in your graph\n",
        "            target_component_name = \"ArticleListComponent\" # Change if needed\n",
        "            \n",
        "            query_subgraph = f\"\"\"\n",
        "            MATCH (c:Component {{name: '{target_component_name}'}})\n",
        "            OPTIONAL MATCH (c)-[r1:INJECTS]->(s:Service)\n",
        "            OPTIONAL MATCH (m:Module)-[r2:DECLARES]->(c)\n",
        "            OPTIONAL MATCH (c)-[r3:DEFINED_IN]->(f1:File)\n",
        "            OPTIONAL MATCH (s)-[r4:DEFINED_IN]->(f2:File)\n",
        "            OPTIONAL MATCH (m)-[r5:DEFINED_IN]->(f3:File)\n",
        "            RETURN c, r1, s, m, r2, r3, f1, r4, f2, r5, f3\n",
        "            \"\"\"\n",
        "            results_subgraph = session.run(query_subgraph)\n",
        "            \n",
        "            net = Network(notebook=True, height=\"750px\", width=\"100%\", cdn_resources='remote') # Use remote for offline friendly\n",
        "            \n",
        "            added_nodes = set()\n",
        "            for record in results_subgraph:\n",
        "                for key, value in record.items():\n",
        "                    if value is None: continue\n",
        "                    \n",
        "                    if hasattr(value, 'labels'): # It's a node\n",
        "                        node_id = value.element_id\n",
        "                        if node_id not in added_nodes:\n",
        "                            label = value.get('name', value.get('filePath', node_id))\n",
        "                            title = json.dumps(dict(value.items()), indent=2)\n",
        "                            node_type = list(value.labels - {'AngularEntity', '_Node'})[0] if value.labels - {'AngularEntity', '_Node'} else list(value.labels)[0]\n",
        "                            \n",
        "                            color_map = {\n",
        "                                'Component': 'blue',\n",
        "                                'Service': 'green',\n",
        "                                'Module': 'red',\n",
        "                                'File': 'grey',\n",
        "                                'ExternalOrUnresolved': 'orange'\n",
        "                            }\n",
        "                            net.add_node(node_id, label=label, title=title, group=node_type, color=color_map.get(node_type, 'purple'))\n",
        "                            added_nodes.add(node_id)\n",
        "                            \n",
        "                    elif hasattr(value, 'type'): # It's a relationship\n",
        "                        net.add_edge(value.start_node.element_id, value.end_node.element_id, title=value.type, label=value.type)\n",
        "            \n",
        "            if not added_nodes:\n",
        "                print(f\"No data found for component '{target_component_name}' to visualize. Try a different component or check graph.\")\n",
        "            else:\n",
        "                net.show_buttons(filter_=['physics'])\n",
        "                # net.show(\"angular_graph_sample.html\")\n",
        "                # display(HTML(\"angular_graph_sample.html\")) # if not using notebook=True directly\n",
        "                display(net.show(\"angular_graph_sample.html\")) # For direct rendering in output cell\n",
        "                display(Markdown(\"Generated `angular_graph_sample.html`. If not displayed above, open it manually.\"))\n",
        "\n",
        "    except Exception as e:\n",
        "        print(f\"Error during pyvis visualization: {e}\")\n",
        "    finally:\n",
        "        if 'driver' in locals() and driver:\n",
        "            driver.close()\n",
        "else:\n",
        "    if not PYVIS_AVAILABLE:\n",
        "        print(\"Skipping pyvis visualization as pyvis is not available.\")\n",
        "    if not NEO4J_PASSWORD:\n",
        "        print(\"Skipping pyvis visualization as Neo4j password is not available.\")"
      ]
    },
    {
      "cell_type": "code",
      "execution_count": 15,
      "id": "165fe1df",
      "metadata": {},
      "outputs": [
        {
          "name": "stdout",
          "output_type": "stream",
          "text": [
            "Neo4jGraph initialized for LangChain.\n",
            "Neo4jGraph connection test (labels and rel types):\n",
            "  Node Labels from DB: [{'label': 'BaseNode'}, {'label': 'File'}, {'label': 'Component'}, {'label': 'Service'}, {'label': 'Module'}]\n",
            "  Relationship Types from DB: [{'relationshipType': 'IMPORTS'}, {'relationshipType': 'DEFINED_IN'}, {'relationshipType': 'INJECTS'}, {'relationshipType': 'IMPLEMENTS'}]\n",
            "Ollama LLM initialized with model: llama3:8b\n",
            "Testing Ollama LLM connection...\n",
            "LLM Test Response (first 100 chars): Neo4j is a graph database management system that allows you to store and query data as nodes (vertices) connected by relationships. It's designed to handle complex networks and relationships between entities, making it particularly useful for applications that require querying and analyzing interconnected data.\n",
            "\n",
            "In traditional relational databases, data is stored in tables with well-defined schemas, whereas Neo4j stores data as a graph of nodes and edges. This allows for efficient querying and traversing of relationships between nodes, which is ideal for use cases such as:\n",
            "\n",
            "1. Social network analysis\n",
            "2. Recommendation systems\n",
            "3. Knowledge graphs\n",
            "4. Fraud detection\n",
            "5. Network topology management\n",
            "\n",
            "Neo4j supports Cypher, a query language specifically designed for graph databases, allowing developers to write queries that traverse and analyze the relationships between nodes....\n"
          ]
        },
        {
          "data": {
            "text/markdown": [
              "<font color='green'>**LangChain components (Neo4jGraph, Ollama LLM) initialized successfully.**</font>"
            ],
            "text/plain": [
              "<IPython.core.display.Markdown object>"
            ]
          },
          "metadata": {},
          "output_type": "display_data"
        }
      ],
      "source": [
        "from langchain_community.graphs import Neo4jGraph\n",
        "from langchain_community.llms import Ollama\n",
        "from langchain.chains import GraphCypherQAChain # For Cypher generation and QA\n",
        "from langchain_core.prompts import PromptTemplate\n",
        "import logging\n",
        "import os\n",
        "\n",
        "# Configure LangChain logging for more verbosity if needed\n",
        "# logging.basicConfig(level=logging.INFO) # General INFO for LangChain\n",
        "# logging.getLogger(\"langchain.chains.graph_qa.base\").setLevel(logging.DEBUG) # DEBUG for GraphCypherQAChain\n",
        "\n",
        "OLLAMA_MODEL = \"llama3:8b\" # Or \"mistral\", \"codellama:7b\", etc. - make sure it's pulled in Ollama\n",
        "OLLAMA_BASE_URL = \"http://localhost:11434\"\n",
        "\n",
        "NEO4J_PASSWORD = os.getenv(\"NEO4J_PASSWORD\", \"test1234\")\n",
        "LANGCHAIN_INTEGRATION_POSSIBLE = True\n",
        "\n",
        "if not NEO4J_PASSWORD:\n",
        "    print(\"NEO4J_PASSWORD not set. LangChain integration with Neo4j will be skipped.\")\n",
        "    LANGCHAIN_INTEGRATION_POSSIBLE = False\n",
        "\n",
        "graph = None # For Neo4jGraph instance\n",
        "llm = None   # For Ollama LLM instance\n",
        "\n",
        "if LANGCHAIN_INTEGRATION_POSSIBLE:\n",
        "    try:\n",
        "        # Initialize Neo4jGraph connection (used by LangChain)\n",
        "        graph = Neo4jGraph(\n",
        "            url=NEO4J_URI, # Defined in an earlier cell\n",
        "            username=NEO4J_USER, # Defined in an earlier cell\n",
        "            password=NEO4J_PASSWORD\n",
        "        )\n",
        "        print(f\"Neo4jGraph initialized for LangChain.\")\n",
        "        \n",
        "        # It's good practice to see what schema LangChain can infer, though we'll provide a manual one too.\n",
        "        # print(\"Attempting to refresh and display Neo4jGraph schema (can be verbose)...\")\n",
        "        # graph.refresh_schema() \n",
        "        # print(graph.schema) # This prints the schema LangChain sees\n",
        "\n",
        "        # For a quicker check:\n",
        "        print(\"Neo4jGraph connection test (labels and rel types):\")\n",
        "        print(f\"  Node Labels from DB: {graph.query('CALL db.labels() YIELD label RETURN label')[:5]}\") # Show first 5\n",
        "        print(f\"  Relationship Types from DB: {graph.query('CALL db.relationshipTypes() YIELD relationshipType RETURN relationshipType')[:5]}\")\n",
        "\n",
        "    except Exception as e:\n",
        "        print(f\"Error initializing Neo4jGraph for LangChain: {e}\")\n",
        "        LANGCHAIN_INTEGRATION_POSSIBLE = False\n",
        "\n",
        "    if LANGCHAIN_INTEGRATION_POSSIBLE: # Proceed only if graph connection was successful\n",
        "        try:\n",
        "            # Initialize Ollama LLM\n",
        "            llm = Ollama(base_url=OLLAMA_BASE_URL, model=OLLAMA_MODEL, temperature=0)\n",
        "            print(f\"Ollama LLM initialized with model: {OLLAMA_MODEL}\")\n",
        "            \n",
        "            # Test LLM connection with a simple query\n",
        "            print(\"Testing Ollama LLM connection...\")\n",
        "            test_response = llm.invoke(\"Briefly, what is Neo4j?\")\n",
        "            print(f\"LLM Test Response (first 100 chars): {test_response}...\")\n",
        "\n",
        "        except Exception as e:\n",
        "            print(f\"Error initializing Ollama LLM: {e}\")\n",
        "            print(f\"Please ensure Ollama is running (e.g., 'ollama serve') and the model '{OLLAMA_MODEL}' is pulled (e.g., 'ollama pull {OLLAMA_MODEL}').\")\n",
        "            LANGCHAIN_INTEGRATION_POSSIBLE = False\n",
        "\n",
        "if not LANGCHAIN_INTEGRATION_POSSIBLE:\n",
        "    display(Markdown(\"<font color='orange'>**Skipping LangChain SLM integration due to missing Neo4j password or Ollama/Neo4j connection issues.**</font>\"))\n",
        "else:\n",
        "    display(Markdown(\"<font color='green'>**LangChain components (Neo4jGraph, Ollama LLM) initialized successfully.**</font>\"))"
      ]
    },
    {
      "cell_type": "markdown",
      "id": "605635b5",
      "metadata": {},
      "source": [
        "### 5.1 Using `GraphCypherQAChain` for Question Answering\n",
        "\n",
        "`GraphCypherQAChain` attempts to:\n",
        "1. Understand the user's question.\n",
        "2. Inspect the graph schema (or use a provided schema context).\n",
        "3. Generate a Cypher query to retrieve relevant information from the Neo4j graph.\n",
        "4. Execute the Cypher query against the graph.\n",
        "5. Pass the query results and the original question to the LLM to synthesize a final, human-readable answer."
      ]
    },
    {
      "cell_type": "code",
      "execution_count": 13,
      "id": "16b5b89b",
      "metadata": {},
      "outputs": [
        {
          "name": "stdout",
          "output_type": "stream",
          "text": [
            "Effective Node Labels for LLM Prompt: Component, Directive, ExternalOrUnresolved, File, Interface, Module, Pipe, Service\n",
            "Effective Relationship Types for LLM Prompt: DEFINED_IN, IMPLEMENTS, IMPORTS, INJECTS\n",
            "GraphCypherQAChain initialized successfully with custom prompt and schema.\n"
          ]
        },
        {
          "data": {
            "text/markdown": [
              "---"
            ],
            "text/plain": [
              "<IPython.core.display.Markdown object>"
            ]
          },
          "metadata": {},
          "output_type": "display_data"
        },
        {
          "data": {
            "text/markdown": [
              "### RAG Question 1: What services does the ArticleModule provide?"
            ],
            "text/plain": [
              "<IPython.core.display.Markdown object>"
            ]
          },
          "metadata": {},
          "output_type": "display_data"
        },
        {
          "name": "stdout",
          "output_type": "stream",
          "text": [
            "\n",
            "\n",
            "\u001b[1m> Entering new GraphCypherQAChain chain...\u001b[0m\n"
          ]
        },
        {
          "name": "stderr",
          "output_type": "stream",
          "text": [
            "Received notification from DBMS server: {severity: WARNING} {code: Neo.ClientNotification.Statement.UnknownRelationshipTypeWarning} {category: UNRECOGNIZED} {title: The provided relationship type is not in the database.} {description: One of the relationship types in your query is not available in the database, make sure you didn't misspell it or that the label is available when you run this statement in your application (the missing relationship type is: PROVIDES)} {position: line: 1, column: 44, offset: 43} for query: \"MATCH (m:Module {name: 'ArticleModule'})-[:PROVIDES]->(s:Service) RETURN s.name, s.id\"\n"
          ]
        },
        {
          "name": "stdout",
          "output_type": "stream",
          "text": [
            "Generated Cypher:\n",
            "\u001b[32;1m\u001b[1;3mMATCH (m:Module {name: 'ArticleModule'})-[:PROVIDES]->(s:Service) RETURN s.name, s.id\u001b[0m\n",
            "Full Context:\n",
            "\u001b[32;1m\u001b[1;3m[]\u001b[0m\n",
            "\n",
            "\u001b[1m> Finished chain.\u001b[0m\n"
          ]
        },
        {
          "data": {
            "text/markdown": [
              "**LLM Answer:** I don't know the answer."
            ],
            "text/plain": [
              "<IPython.core.display.Markdown object>"
            ]
          },
          "metadata": {},
          "output_type": "display_data"
        },
        {
          "data": {
            "text/markdown": [
              "---"
            ],
            "text/plain": [
              "<IPython.core.display.Markdown object>"
            ]
          },
          "metadata": {},
          "output_type": "display_data"
        },
        {
          "data": {
            "text/markdown": [
              "### RAG Question 2: Show me components declared in the SharedModule."
            ],
            "text/plain": [
              "<IPython.core.display.Markdown object>"
            ]
          },
          "metadata": {},
          "output_type": "display_data"
        },
        {
          "name": "stdout",
          "output_type": "stream",
          "text": [
            "\n",
            "\n",
            "\u001b[1m> Entering new GraphCypherQAChain chain...\u001b[0m\n"
          ]
        },
        {
          "name": "stderr",
          "output_type": "stream",
          "text": [
            "Received notification from DBMS server: {severity: WARNING} {code: Neo.ClientNotification.Statement.UnknownRelationshipTypeWarning} {category: UNRECOGNIZED} {title: The provided relationship type is not in the database.} {description: One of the relationship types in your query is not available in the database, make sure you didn't misspell it or that the label is available when you run this statement in your application (the missing relationship type is: DECLARES)} {position: line: 1, column: 43, offset: 42} for query: \"MATCH (m:Module {name: 'SharedModule'})-[:DECLARES]->(c:Component) RETURN c.name, c.id\"\n"
          ]
        },
        {
          "name": "stdout",
          "output_type": "stream",
          "text": [
            "Generated Cypher:\n",
            "\u001b[32;1m\u001b[1;3mMATCH (m:Module {name: 'SharedModule'})-[:DECLARES]->(c:Component) RETURN c.name, c.id\u001b[0m\n",
            "Full Context:\n",
            "\u001b[32;1m\u001b[1;3m[]\u001b[0m\n",
            "\n",
            "\u001b[1m> Finished chain.\u001b[0m\n"
          ]
        },
        {
          "data": {
            "text/markdown": [
              "**LLM Answer:** I don't know the answer."
            ],
            "text/plain": [
              "<IPython.core.display.Markdown object>"
            ]
          },
          "metadata": {},
          "output_type": "display_data"
        },
        {
          "data": {
            "text/markdown": [
              "---"
            ],
            "text/plain": [
              "<IPython.core.display.Markdown object>"
            ]
          },
          "metadata": {},
          "output_type": "display_data"
        },
        {
          "data": {
            "text/markdown": [
              "### RAG Question 3: Which services are injected into ArticleListComponent?"
            ],
            "text/plain": [
              "<IPython.core.display.Markdown object>"
            ]
          },
          "metadata": {},
          "output_type": "display_data"
        },
        {
          "name": "stdout",
          "output_type": "stream",
          "text": [
            "\n",
            "\n",
            "\u001b[1m> Entering new GraphCypherQAChain chain...\u001b[0m\n",
            "Generated Cypher:\n",
            "\u001b[32;1m\u001b[1;3mMATCH (ac:Component {name: 'ArticleListComponent'})-[:INJECTS]->(s:Service) RETURN s.name, s.id;\u001b[0m\n",
            "Full Context:\n",
            "\u001b[32;1m\u001b[1;3m[{'s.name': 'ArticlesService', 's.id': 'Service:ArticlesService:src/app/features/article/services/articles.service.ts'}]\u001b[0m\n",
            "\n",
            "\u001b[1m> Finished chain.\u001b[0m\n"
          ]
        },
        {
          "data": {
            "text/markdown": [
              "**LLM Answer:** ArticlesService."
            ],
            "text/plain": [
              "<IPython.core.display.Markdown object>"
            ]
          },
          "metadata": {},
          "output_type": "display_data"
        },
        {
          "data": {
            "text/markdown": [
              "---"
            ],
            "text/plain": [
              "<IPython.core.display.Markdown object>"
            ]
          },
          "metadata": {},
          "output_type": "display_data"
        },
        {
          "data": {
            "text/markdown": [
              "### RAG Question 4: Find the selector for the component named FollowButtonComponent."
            ],
            "text/plain": [
              "<IPython.core.display.Markdown object>"
            ]
          },
          "metadata": {},
          "output_type": "display_data"
        },
        {
          "name": "stdout",
          "output_type": "stream",
          "text": [
            "\n",
            "\n",
            "\u001b[1m> Entering new GraphCypherQAChain chain...\u001b[0m\n",
            "Generated Cypher:\n",
            "\u001b[32;1m\u001b[1;3mMATCH (c:Component {name: 'FollowButtonComponent'})-[:DEFINED_IN]->(f:File) \n",
            "RETURN f.selector AS selector\u001b[0m\n",
            "Full Context:\n",
            "\u001b[32;1m\u001b[1;3m[{'selector': None}]\u001b[0m\n",
            "\n",
            "\u001b[1m> Finished chain.\u001b[0m\n"
          ]
        },
        {
          "data": {
            "text/markdown": [
              "**LLM Answer:** I don't know the answer."
            ],
            "text/plain": [
              "<IPython.core.display.Markdown object>"
            ]
          },
          "metadata": {},
          "output_type": "display_data"
        },
        {
          "data": {
            "text/markdown": [
              "---"
            ],
            "text/plain": [
              "<IPython.core.display.Markdown object>"
            ]
          },
          "metadata": {},
          "output_type": "display_data"
        },
        {
          "data": {
            "text/markdown": [
              "### RAG Question 5: List up to 3 files that import the ApiService."
            ],
            "text/plain": [
              "<IPython.core.display.Markdown object>"
            ]
          },
          "metadata": {},
          "output_type": "display_data"
        },
        {
          "name": "stdout",
          "output_type": "stream",
          "text": [
            "\n",
            "\n",
            "\u001b[1m> Entering new GraphCypherQAChain chain...\u001b[0m\n",
            "Generated Cypher:\n",
            "\u001b[32;1m\u001b[1;3mMATCH (f:File)-[:IMPORTS]->(target) WHERE target.name = 'ApiService' RETURN f.filePath AS filePath;\u001b[0m\n",
            "Full Context:\n",
            "\u001b[32;1m\u001b[1;3m[]\u001b[0m\n",
            "\n",
            "\u001b[1m> Finished chain.\u001b[0m\n"
          ]
        },
        {
          "data": {
            "text/markdown": [
              "**LLM Answer:** I don't know the answer."
            ],
            "text/plain": [
              "<IPython.core.display.Markdown object>"
            ]
          },
          "metadata": {},
          "output_type": "display_data"
        }
      ],
      "source": [
        "if LANGCHAIN_INTEGRATION_POSSIBLE and graph is not None and llm is not None:\n",
        "    # --- Define a good schema description for the LLM ---\n",
        "    try:\n",
        "        raw_node_labels = graph.query(\"CALL db.labels() YIELD label RETURN label\")\n",
        "        node_labels_list = sorted([item['label'] for item in raw_node_labels if item['label'] not in ['_Node', 'AngularEntity', 'BaseNode']]) # Exclude BaseNode too if it's generic\n",
        "        node_labels_str = \", \".join(node_labels_list)\n",
        "\n",
        "        raw_rel_types = graph.query(\"CALL db.relationshipTypes() YIELD relationshipType RETURN relationshipType\")\n",
        "        rel_types_list = sorted([item['relationshipType'] for item in raw_rel_types])\n",
        "        rel_types_str = \", \".join(rel_types_list)\n",
        "        \n",
        "        print(f\"Effective Node Labels for LLM Prompt: {node_labels_str}\")\n",
        "        print(f\"Effective Relationship Types for LLM Prompt: {rel_types_str}\")\n",
        "\n",
        "    except Exception as e:\n",
        "        print(f\"Could not dynamically fetch schema components for LLM prompt: {e}\")\n",
        "        node_labels_str = \"Component, Directive, ExternalOrUnresolved, File, Interface, Module, Pipe, Service\" # Fallback\n",
        "        rel_types_str = \"DEFINED_IN, IMPLEMENTS, IMPORTS, INJECTS, DECLARES, IMPORTS_MODULE, PROVIDES\" # Add missing ones if needed from your actual graph\n",
        "    \n",
        "    # This is the text description of your schema you provide to the LLM.\n",
        "    MANUAL_GRAPH_SCHEMA_DESCRIPTION = f\"\"\"\n",
        "The graph database contains information about an Angular codebase.\n",
        "Node Labels represent different Angular entities: {node_labels_str}.\n",
        "Relationship Types describe how these entities are connected: {rel_types_str}.\n",
        "\n",
        "Key Node Properties:\n",
        "- All nodes typically have an 'id' (string, unique business identifier, e.g., \"Component:AppComponent:src/app/app.component.ts\") and a 'name' (string, e.g., \"AppComponent\").\n",
        "- 'File' nodes have 'filePath' (string, relative path).\n",
        "- 'Component' nodes can have 'selector' (string, e.g., \"app-root\"), 'templateUrl' (string), 'styleUrls' (list of strings).\n",
        "- 'Service' nodes can have 'providedIn' (string, e.g., \"root\").\n",
        "- 'Module' nodes connect to other entities via relationships.\n",
        "- 'ExternalOrUnresolved' nodes represent external libraries or unresolved dependencies, with a 'name' property (e.g., \"rxjs\", \"Unresolved:SomeType\") and an 'originalId' (e.g., \"External:rxjs\").\n",
        "\n",
        "Key Relationship Meanings (ensure these match your actual graph from the parser output):\n",
        "- (entity)-[:DEFINED_IN]->(file:File) : An entity (like Component, Service) is defined in a specific file.\n",
        "- (module:Module)-[:DECLARES]->(declarable:Component|Pipe|Directive) : A module declares a component, pipe, or directive.\n",
        "- (module:Module)-[:IMPORTS_MODULE]->(imported_module:Module) : A module imports another module.\n",
        "- (module:Module)-[:PROVIDES]->(service:Service) : A module makes a service available for injection.\n",
        "- (injector:Component|Service)-[:INJECTS]->(injectee:Service) : A component or service injects another service. The relationship might have a 'parameterName' property.\n",
        "- (file:File)-[:IMPORTS]->(target:File|ExternalOrUnresolved) : A file imports code from another file or an external library. The relationship has a 'from' property (string, the original import path).\n",
        "- (class)-[:IMPLEMENTS]->(interface:Interface) : A class implements an interface.\n",
        "\n",
        "When querying, always use the specific labels like 'Component' or 'Service'.\n",
        "String values in Cypher queries (like names or filePaths) MUST be enclosed in single or double quotes.\n",
        "For example, to find a component named 'AppComponent', use: MATCH (c:Component {{name: 'AppComponent'}}) RETURN c.name, c.filePath\n",
        "\"\"\"\n",
        "\n",
        "    # --- Construct a custom Cypher generation prompt ---\n",
        "    # This template is based on the one LangChain uses internally but allows us to inject our detailed schema.\n",
        "    CYPHER_GENERATION_PROMPT_TEMPLATE = \"\"\"Task:Generate Cypher query to query a graph database.\n",
        "Instructions:\n",
        "Use only the node labels and relationship types provided in the schema.\n",
        "Do not use any other node labels or relationship types.\n",
        "The Cypher query must be syntactically correct and be supported by Neo4j.\n",
        "Always quote string values in the Cypher query. For example, use `name: 'MyComponent'` not `name: MyComponent`.\n",
        "Only return the Cypher query, no other text or explanation.\n",
        "\n",
        "Schema:\n",
        "{schema}\n",
        "\n",
        "Question: {question}\n",
        "Cypher Query:\"\"\"\n",
        "\n",
        "    CYPHER_PROMPT = PromptTemplate(\n",
        "        input_variables=[\"schema\", \"question\"],\n",
        "        template=CYPHER_GENERATION_PROMPT_TEMPLATE,\n",
        "    )\n",
        "\n",
        "    # --- Initialize GraphCypherQAChain with the custom prompt ---\n",
        "    try:\n",
        "        chain = GraphCypherQAChain.from_llm(\n",
        "            llm=llm,\n",
        "            graph=graph,\n",
        "            cypher_prompt=CYPHER_PROMPT.partial(schema=MANUAL_GRAPH_SCHEMA_DESCRIPTION), # Inject our schema description into the prompt\n",
        "            verbose=True, \n",
        "            allow_dangerous_requests=True\n",
        "            # validate_cypher=True, # Keep commented for now unless debugging specific Cypher issues\n",
        "            # top_k=5 \n",
        "        )\n",
        "        print(\"GraphCypherQAChain initialized successfully with custom prompt and schema.\")\n",
        "        \n",
        "        # --- Define questions for the RAG system ---\n",
        "        questions_to_ask = [\n",
        "            \"What services does the ArticleModule provide?\",\n",
        "            \"Show me components declared in the SharedModule.\",\n",
        "            \"Which services are injected into ArticleListComponent?\", \n",
        "            \"Find the selector for the component named FollowButtonComponent.\",\n",
        "            \"List up to 3 files that import the ApiService.\" \n",
        "        ]\n",
        "\n",
        "        for i, question_text in enumerate(questions_to_ask):\n",
        "            display(Markdown(f\"---\"))\n",
        "            display(Markdown(f\"### RAG Question {i + 1}: {question_text}\"))\n",
        "            try:\n",
        "                response = chain.invoke({\"query\": question_text})\n",
        "                display(Markdown(f\"**LLM Answer:** {response['result']}\"))\n",
        "            except Exception as e:\n",
        "                print(f\"Error running LangChain RAG chain for question '{question_text}':\")\n",
        "                print(f\"  Type: {type(e)}\")\n",
        "                print(f\"  Error: {e}\")\n",
        "                display(Markdown(f\"<font color='red'>**Error processing question:** {e}. Check console for details.</font>\"))\n",
        "\n",
        "    except Exception as e:\n",
        "        print(f\"An error occurred during LangChain RAG setup or execution: {e}\")\n",
        "        display(Markdown(f\"<font color='red'>**LangChain RAG processing failed:** {e}</font>\"))\n",
        "else:\n",
        "    display(Markdown(\"<font color='orange'>**Skipping LangChain GraphCypherQAChain example as prerequisites (Neo4j connection, Ollama LLM) are not met.**</font>\"))"
      ]
    },
    {
      "cell_type": "code",
      "execution_count": 17,
      "id": "7447fa67",
      "metadata": {},
      "outputs": [
        {
          "name": "stdout",
          "output_type": "stream",
          "text": [
            "EFFECTIVE NODE LABELS FOR LLM PROMPT: Component, Directive, File, Interface, Module, Pipe, Service, ExternalOrUnresolved\n",
            "EFFECTIVE RELATIONSHIP TYPES FOR LLM PROMPT: DEFINED_IN, IMPLEMENTS, IMPORTS, INJECTS\n",
            "GraphCypherQAChain initialized successfully with custom prompt and schema.\n"
          ]
        },
        {
          "data": {
            "text/markdown": [
              "---"
            ],
            "text/plain": [
              "<IPython.core.display.Markdown object>"
            ]
          },
          "metadata": {},
          "output_type": "display_data"
        },
        {
          "data": {
            "text/markdown": [
              "### RAG Question 1: What services does the ArticleModule provide?"
            ],
            "text/plain": [
              "<IPython.core.display.Markdown object>"
            ]
          },
          "metadata": {},
          "output_type": "display_data"
        },
        {
          "name": "stdout",
          "output_type": "stream",
          "text": [
            "\n",
            "\n",
            "\u001b[1m> Entering new GraphCypherQAChain chain...\u001b[0m\n"
          ]
        },
        {
          "name": "stderr",
          "output_type": "stream",
          "text": [
            "Received notification from DBMS server: {severity: WARNING} {code: Neo.ClientNotification.Statement.UnknownRelationshipTypeWarning} {category: UNRECOGNIZED} {title: The provided relationship type is not in the database.} {description: One of the relationship types in your query is not available in the database, make sure you didn't misspell it or that the label is available when you run this statement in your application (the missing relationship type is: PROVIDES)} {position: line: 1, column: 49, offset: 48} for query: \"MATCH (module:Module {name: 'ArticleModule'})-[:PROVIDES]->(service:Service) RETURN service;\"\n"
          ]
        },
        {
          "name": "stdout",
          "output_type": "stream",
          "text": [
            "Generated Cypher:\n",
            "\u001b[32;1m\u001b[1;3mMATCH (module:Module {name: 'ArticleModule'})-[:PROVIDES]->(service:Service) RETURN service;\u001b[0m\n",
            "Full Context:\n",
            "\u001b[32;1m\u001b[1;3m[]\u001b[0m\n",
            "\n",
            "\u001b[1m> Finished chain.\u001b[0m\n"
          ]
        },
        {
          "data": {
            "text/markdown": [
              "**LLM Answer:** I don't know the answer."
            ],
            "text/plain": [
              "<IPython.core.display.Markdown object>"
            ]
          },
          "metadata": {},
          "output_type": "display_data"
        },
        {
          "data": {
            "text/markdown": [
              "---"
            ],
            "text/plain": [
              "<IPython.core.display.Markdown object>"
            ]
          },
          "metadata": {},
          "output_type": "display_data"
        },
        {
          "data": {
            "text/markdown": [
              "### RAG Question 2: Show me components declared in the SharedModule."
            ],
            "text/plain": [
              "<IPython.core.display.Markdown object>"
            ]
          },
          "metadata": {},
          "output_type": "display_data"
        },
        {
          "name": "stdout",
          "output_type": "stream",
          "text": [
            "\n",
            "\n",
            "\u001b[1m> Entering new GraphCypherQAChain chain...\u001b[0m\n"
          ]
        },
        {
          "name": "stderr",
          "output_type": "stream",
          "text": [
            "Received notification from DBMS server: {severity: WARNING} {code: Neo.ClientNotification.Statement.UnknownRelationshipTypeWarning} {category: UNRECOGNIZED} {title: The provided relationship type is not in the database.} {description: One of the relationship types in your query is not available in the database, make sure you didn't misspell it or that the label is available when you run this statement in your application (the missing relationship type is: DECLARES)} {position: line: 1, column: 48, offset: 47} for query: \"MATCH (module:Module {name: 'SharedModule'})-[:DECLARES]->(component:Component) RETURN component;\"\n"
          ]
        },
        {
          "name": "stdout",
          "output_type": "stream",
          "text": [
            "Generated Cypher:\n",
            "\u001b[32;1m\u001b[1;3mMATCH (module:Module {name: 'SharedModule'})-[:DECLARES]->(component:Component) RETURN component;\u001b[0m\n",
            "Full Context:\n",
            "\u001b[32;1m\u001b[1;3m[]\u001b[0m\n",
            "\n",
            "\u001b[1m> Finished chain.\u001b[0m\n"
          ]
        },
        {
          "data": {
            "text/markdown": [
              "**LLM Answer:** I don't know the answer."
            ],
            "text/plain": [
              "<IPython.core.display.Markdown object>"
            ]
          },
          "metadata": {},
          "output_type": "display_data"
        },
        {
          "data": {
            "text/markdown": [
              "---"
            ],
            "text/plain": [
              "<IPython.core.display.Markdown object>"
            ]
          },
          "metadata": {},
          "output_type": "display_data"
        },
        {
          "data": {
            "text/markdown": [
              "### RAG Question 3: Which services are injected into ArticleListComponent?"
            ],
            "text/plain": [
              "<IPython.core.display.Markdown object>"
            ]
          },
          "metadata": {},
          "output_type": "display_data"
        },
        {
          "name": "stdout",
          "output_type": "stream",
          "text": [
            "\n",
            "\n",
            "\u001b[1m> Entering new GraphCypherQAChain chain...\u001b[0m\n",
            "Generated Cypher:\n",
            "\u001b[32;1m\u001b[1;3mMATCH (articleListComponent:Component {name: 'ArticleListComponent'})-[:INJECTS]->(injectedService:Service) RETURN injectedService;\u001b[0m\n",
            "Full Context:\n",
            "\u001b[32;1m\u001b[1;3m[{'injectedService': {'providedIn': 'root', 'filePath': 'src/app/features/article/services/articles.service.ts', 'name': 'ArticlesService', 'id': 'Service:ArticlesService:src/app/features/article/services/articles.service.ts', 'type': 'Service'}}]\u001b[0m\n",
            "\n",
            "\u001b[1m> Finished chain.\u001b[0m\n"
          ]
        },
        {
          "data": {
            "text/markdown": [
              "**LLM Answer:** ArticleListComponent."
            ],
            "text/plain": [
              "<IPython.core.display.Markdown object>"
            ]
          },
          "metadata": {},
          "output_type": "display_data"
        },
        {
          "data": {
            "text/markdown": [
              "---"
            ],
            "text/plain": [
              "<IPython.core.display.Markdown object>"
            ]
          },
          "metadata": {},
          "output_type": "display_data"
        },
        {
          "data": {
            "text/markdown": [
              "### RAG Question 4: Find the selector for the component named FollowButtonComponent."
            ],
            "text/plain": [
              "<IPython.core.display.Markdown object>"
            ]
          },
          "metadata": {},
          "output_type": "display_data"
        },
        {
          "name": "stdout",
          "output_type": "stream",
          "text": [
            "\n",
            "\n",
            "\u001b[1m> Entering new GraphCypherQAChain chain...\u001b[0m\n"
          ]
        },
        {
          "name": "stderr",
          "output_type": "stream",
          "text": [
            "Received notification from DBMS server: {severity: WARNING} {code: Neo.ClientNotification.Statement.UnknownRelationshipTypeWarning} {category: UNRECOGNIZED} {title: The provided relationship type is not in the database.} {description: One of the relationship types in your query is not available in the database, make sure you didn't misspell it or that the label is available when you run this statement in your application (the missing relationship type is: HAS_SELECTOR)} {position: line: 1, column: 79, offset: 78} for query: \"MATCH (c:Component {name: 'FollowButtonComponent'})-[:DEFINED_IN]->(f:File)-[:HAS_SELECTOR]->(selector)\\nRETURN selector.name AS selector\"\n"
          ]
        },
        {
          "name": "stdout",
          "output_type": "stream",
          "text": [
            "Generated Cypher:\n",
            "\u001b[32;1m\u001b[1;3mMATCH (c:Component {name: 'FollowButtonComponent'})-[:DEFINED_IN]->(f:File)-[:HAS_SELECTOR]->(selector)\n",
            "RETURN selector.name AS selector\u001b[0m\n",
            "Full Context:\n",
            "\u001b[32;1m\u001b[1;3m[]\u001b[0m\n",
            "\n",
            "\u001b[1m> Finished chain.\u001b[0m\n"
          ]
        },
        {
          "data": {
            "text/markdown": [
              "**LLM Answer:** I don't know the answer."
            ],
            "text/plain": [
              "<IPython.core.display.Markdown object>"
            ]
          },
          "metadata": {},
          "output_type": "display_data"
        },
        {
          "data": {
            "text/markdown": [
              "---"
            ],
            "text/plain": [
              "<IPython.core.display.Markdown object>"
            ]
          },
          "metadata": {},
          "output_type": "display_data"
        },
        {
          "data": {
            "text/markdown": [
              "### RAG Question 5: List up to 3 files that import the ApiService."
            ],
            "text/plain": [
              "<IPython.core.display.Markdown object>"
            ]
          },
          "metadata": {},
          "output_type": "display_data"
        },
        {
          "name": "stdout",
          "output_type": "stream",
          "text": [
            "\n",
            "\n",
            "\u001b[1m> Entering new GraphCypherQAChain chain...\u001b[0m\n",
            "Generated Cypher:\n",
            "\u001b[32;1m\u001b[1;3mMATCH (file:File)-[:IMPORTS]->(target) \n",
            "WHERE target.name = 'ApiService' \n",
            "RETURN file.filePath AS filePath;\u001b[0m\n",
            "Full Context:\n",
            "\u001b[32;1m\u001b[1;3m[]\u001b[0m\n",
            "\n",
            "\u001b[1m> Finished chain.\u001b[0m\n"
          ]
        },
        {
          "data": {
            "text/markdown": [
              "**LLM Answer:** I don't know the answer."
            ],
            "text/plain": [
              "<IPython.core.display.Markdown object>"
            ]
          },
          "metadata": {},
          "output_type": "display_data"
        },
        {
          "data": {
            "text/markdown": [
              "---"
            ],
            "text/plain": [
              "<IPython.core.display.Markdown object>"
            ]
          },
          "metadata": {},
          "output_type": "display_data"
        },
        {
          "data": {
            "text/markdown": [
              "### RAG Question 6: Which modules import the SharedModule?"
            ],
            "text/plain": [
              "<IPython.core.display.Markdown object>"
            ]
          },
          "metadata": {},
          "output_type": "display_data"
        },
        {
          "name": "stdout",
          "output_type": "stream",
          "text": [
            "\n",
            "\n",
            "\u001b[1m> Entering new GraphCypherQAChain chain...\u001b[0m\n",
            "Generated Cypher:\n",
            "\u001b[32;1m\u001b[1;3mMATCH (m:Module)-[r:IMPORTS_MODULE]->(sharedModule:Module) WHERE m.name = 'SharedModule' RETURN distinct m;\u001b[0m\n",
            "Full Context:\n",
            "\u001b[32;1m\u001b[1;3m[]\u001b[0m\n",
            "\n",
            "\u001b[1m> Finished chain.\u001b[0m\n"
          ]
        },
        {
          "data": {
            "text/markdown": [
              "**LLM Answer:** I don't know the answer."
            ],
            "text/plain": [
              "<IPython.core.display.Markdown object>"
            ]
          },
          "metadata": {},
          "output_type": "display_data"
        },
        {
          "data": {
            "text/markdown": [
              "---"
            ],
            "text/plain": [
              "<IPython.core.display.Markdown object>"
            ]
          },
          "metadata": {},
          "output_type": "display_data"
        },
        {
          "data": {
            "text/markdown": [
              "### RAG Question 7: What components are bootstrapped by the AppModule?"
            ],
            "text/plain": [
              "<IPython.core.display.Markdown object>"
            ]
          },
          "metadata": {},
          "output_type": "display_data"
        },
        {
          "name": "stdout",
          "output_type": "stream",
          "text": [
            "\n",
            "\n",
            "\u001b[1m> Entering new GraphCypherQAChain chain...\u001b[0m\n"
          ]
        },
        {
          "name": "stderr",
          "output_type": "stream",
          "text": [
            "Received notification from DBMS server: {severity: WARNING} {code: Neo.ClientNotification.Statement.UnknownRelationshipTypeWarning} {category: UNRECOGNIZED} {title: The provided relationship type is not in the database.} {description: One of the relationship types in your query is not available in the database, make sure you didn't misspell it or that the label is available when you run this statement in your application (the missing relationship type is: BOOTSTRAPS)} {position: line: 1, column: 45, offset: 44} for query: \"MATCH (module:Module {name: 'AppModule'})-[:BOOTSTRAPS]->(component:Component) RETURN component;\"\n"
          ]
        },
        {
          "name": "stdout",
          "output_type": "stream",
          "text": [
            "Generated Cypher:\n",
            "\u001b[32;1m\u001b[1;3mMATCH (module:Module {name: 'AppModule'})-[:BOOTSTRAPS]->(component:Component) RETURN component;\u001b[0m\n",
            "Full Context:\n",
            "\u001b[32;1m\u001b[1;3m[]\u001b[0m\n",
            "\n",
            "\u001b[1m> Finished chain.\u001b[0m\n"
          ]
        },
        {
          "data": {
            "text/markdown": [
              "**LLM Answer:** I don't know the answer."
            ],
            "text/plain": [
              "<IPython.core.display.Markdown object>"
            ]
          },
          "metadata": {},
          "output_type": "display_data"
        }
      ],
      "source": [
        "if LANGCHAIN_INTEGRATION_POSSIBLE and graph is not None and llm is not None:\n",
        "    # --- Define an accurate schema description for the LLM ---\n",
        "    # This description is critical for the LLM to generate correct Cypher queries.\n",
        "    \n",
        "    # Dynamically fetch labels and relationship types from your actual graph\n",
        "    # to ensure the description is as accurate as possible.\n",
        "    try:\n",
        "        raw_node_labels_result = graph.query(\"CALL db.labels() YIELD label RETURN label\")\n",
        "        # Filter out generic/internal labels that might confuse the LLM\n",
        "        node_labels_list = sorted([\n",
        "            item['label'] for item in raw_node_labels_result \n",
        "            if item['label'] not in ['_Node', 'AngularEntity', 'BaseNode', 'UnknownEntity', 'ExternalOrUnresolved', 'UnknownNode'] # Add any other generic labels to exclude\n",
        "        ])\n",
        "        # Add back 'ExternalOrUnresolved' explicitly as it's a special type we handle\n",
        "        if 'ExternalOrUnresolved' not in node_labels_list and graph.query(\"MATCH (n:ExternalOrUnresolved) RETURN count(n) > 0 AS ex LIMIT 1\")[0]['ex']:\n",
        "            node_labels_list.append('ExternalOrUnresolved')\n",
        "        node_labels_str = \", \".join(node_labels_list)\n",
        "\n",
        "\n",
        "        raw_rel_types_result = graph.query(\"CALL db.relationshipTypes() YIELD relationshipType RETURN relationshipType\")\n",
        "        rel_types_list = sorted([item['relationshipType'] for item in raw_rel_types_result])\n",
        "        rel_types_str = \", \".join(rel_types_list)\n",
        "        \n",
        "        print(f\"EFFECTIVE NODE LABELS FOR LLM PROMPT: {node_labels_str}\")\n",
        "        print(f\"EFFECTIVE RELATIONSHIP TYPES FOR LLM PROMPT: {rel_types_str}\")\n",
        "\n",
        "    except Exception as e:\n",
        "        print(f\"Warning: Could not dynamically fetch schema components for LLM prompt: {e}\")\n",
        "        # Fallback if DB query fails - **ADJUST THESE TO YOUR EXPECTED PARSED LABELS/RELS**\n",
        "        node_labels_str = \"Class, Component, Directive, File, Interface, Module, Pipe, Service, ExternalOrUnresolved\"\n",
        "        rel_types_str = \"BOOTSTRAPS, DECLARES, DEFINED_IN, EXPORTS_MODULE, IMPLEMENTS, IMPORTS, IMPORTS_MODULE, INJECTS, PROVIDES\"\n",
        "        print(f\"Using FALLBACK NODE LABELS: {node_labels_str}\")\n",
        "        print(f\"Using FALLBACK RELATIONSHIP TYPES: {rel_types_str}\")\n",
        "    \n",
        "    # This is the text description of your schema you provide to the LLM.\n",
        "    # Be very specific about node properties it should use.\n",
        "    MANUAL_GRAPH_SCHEMA_DESCRIPTION = f\"\"\"\n",
        "The graph database contains information about an Angular codebase.\n",
        "Relevant Node Labels are: {node_labels_str}.\n",
        "Relevant Relationship Types are: {rel_types_str}.\n",
        "\n",
        "Key Node Properties and Details:\n",
        "- Common properties for most entities: 'id' (string, unique business identifier like \"Component:Name:path/to/file.ts\"), 'name' (string, e.g., \"AppComponent\"), 'filePath' (string, relative path to the file where it's defined).\n",
        "- 'Component': Can have 'selector' (string), 'templateUrl' (string), 'styleUrls' (list of strings).\n",
        "- 'Service': Can have 'providedIn' (string, e.g., \"root\").\n",
        "- 'Module': Represents an NgModule.\n",
        "- 'File': Represents a .ts source file.\n",
        "- 'Pipe': Represents an Angular Pipe.\n",
        "- 'Directive': Represents an Angular Directive.\n",
        "- 'Interface': Represents a TypeScript interface.\n",
        "- 'Class': Represents a generic TypeScript class if not a more specific Angular entity.\n",
        "- 'ExternalOrUnresolved': Represents external libraries (e.g., 'name': \"rxjs\") or internal symbols that could not be fully resolved by the parser (e.g., 'name': \"Unresolved:SomeType\"). It has an 'originalId' property reflecting the parser's placeholder.\n",
        "\n",
        "Key Relationship Meanings and Usage:\n",
        "- (entity)-[:DEFINED_IN]->(file:File): Indicates that 'entity' (e.g., a Component, Service, Module) is defined in the specified 'file'.\n",
        "- (module:Module)-[:DECLARES]->(item:Component|Pipe|Directive): The 'module' declares 'item'. The 'item' node will have a specific label like :Component, :Pipe, or :Directive.\n",
        "- (module:Module)-[:PROVIDES]->(item:Service): The 'module' provides 'item', which is typically a Service. The 'item' node will usually have the :Service label.\n",
        "- (module:Module)-[:IMPORTS_MODULE]->(importedModule:Module): The 'module' imports another 'importedModule'. Both nodes will have the :Module label.\n",
        "- (module:Module)-[:EXPORTS_MODULE]->(exportedItem): The 'module' exports 'exportedItem'. The 'exportedItem' could be another Module, or a Component, Pipe, or Directive that was declared or imported by this module. The label of 'exportedItem' will be specific (e.g., :Module, :Component).\n",
        "- (module:Module)-[:BOOTSTRAPS]->(component:Component): The 'module' bootstraps a root 'component'. The 'component' node will have the :Component label.\n",
        "- (source:Component|Service)-[:INJECTS]->(target:Service): The 'source' (a Component or another Service) injects the 'target' Service. This relationship may have a 'parameterName' property.\n",
        "- (file:File)-[:IMPORTS]->(target): The 'file' imports from 'target'. 'target' can be another 'File' node within the project or an 'ExternalOrUnresolved' node (for libraries like 'rxjs' or unparsed local files). This relationship has a 'from' property (string, the original import path string from the code).\n",
        "- (class:Class|Component|Service|Directive)-[:IMPLEMENTS]->(interface:Interface): The 'class' (or specific entity type that is a class) implements the 'interface'.\n",
        "\n",
        "Querying Guidelines for LLM:\n",
        "- Always use the specific node labels mentioned (e.g., :Component, :Service, :Module) in your MATCH patterns.\n",
        "- String values in Cypher MATCH patterns (e.g., for properties like 'name' or 'filePath') MUST be enclosed in single or double quotes (e.g., `{{name: 'ArticleModule'}}`).\n",
        "- When asked about what a module \"provides\" or \"declares\", use the :PROVIDES or :DECLARES relationships respectively, originating from a :Module node.\n",
        "- For dependencies, :INJECTS shows service injection, and :IMPORTS (on :File nodes) shows file-level imports.\n",
        "\"\"\"\n",
        "\n",
        "    # --- Construct a custom Cypher generation prompt ---\n",
        "    CYPHER_GENERATION_PROMPT_TEMPLATE = \"\"\"Task:Generate Cypher query to query a graph database.\n",
        "Instructions:\n",
        "Use only the node labels and relationship types provided in the schema. Do not use any other node labels or relationship types not listed.\n",
        "The Cypher query must be syntactically correct and be supported by Neo4j.\n",
        "Always quote string values in the Cypher query. For example, use `name: 'MyComponent'` not `name: MyComponent`.\n",
        "Only return the Cypher query itself, with no additional text, explanations, or markdown formatting.\n",
        "\n",
        "Schema:\n",
        "{schema}\n",
        "\n",
        "Question: {question}\n",
        "Cypher Query:\"\"\" # Ensure no trailing newlines or spaces after \"Cypher Query:\" that might confuse the LLM\n",
        "\n",
        "    CYPHER_PROMPT = PromptTemplate(\n",
        "        input_variables=[\"schema\", \"question\"],\n",
        "        template=CYPHER_GENERATION_PROMPT_TEMPLATE,\n",
        "    )\n",
        "\n",
        "    # --- Initialize GraphCypherQAChain with the custom prompt ---\n",
        "    try:\n",
        "        chain = GraphCypherQAChain.from_llm(\n",
        "            llm=llm,\n",
        "            graph=graph,\n",
        "            cypher_prompt=CYPHER_PROMPT.partial(schema=MANUAL_GRAPH_SCHEMA_DESCRIPTION), # Inject our schema description\n",
        "            verbose=True, \n",
        "            allow_dangerous_requests =True, # Allow LLM to generate Cypher queries that might be dangerous (e.g., DELETE)\n",
        "            # validate_cypher=True, # Optional: set to True for debugging LLM's Cypher. Can be slow.\n",
        "            # top_k=5 # Optional: limit number of graph results passed to LLM for final answer\n",
        "        )\n",
        "        print(\"GraphCypherQAChain initialized successfully with custom prompt and schema.\")\n",
        "        \n",
        "        # --- Define questions for the RAG system ---\n",
        "        questions_to_ask = [\n",
        "            \"What services does the ArticleModule provide?\", # Should use :PROVIDES\n",
        "            \"Show me components declared in the SharedModule.\", # Should use :DECLARES\n",
        "            \"Which services are injected into ArticleListComponent?\", # Should use :INJECTS\n",
        "            \"Find the selector for the component named FollowButtonComponent.\", # Needs to find Component node and its 'selector' property\n",
        "            \"List up to 3 files that import the ApiService.\", # This is more complex: find ApiService, then its File via DEFINED_IN, then Files that IMPORT that File.\n",
        "            \"Which modules import the SharedModule?\", # Should use :IMPORTS_MODULE\n",
        "            \"What components are bootstrapped by the AppModule?\" # Should use :BOOTSTRAPS\n",
        "        ]\n",
        "\n",
        "        for i, question_text in enumerate(questions_to_ask):\n",
        "            display(Markdown(f\"---\"))\n",
        "            display(Markdown(f\"### RAG Question {i + 1}: {question_text}\"))\n",
        "            try:\n",
        "                response = chain.invoke({\"query\": question_text})\n",
        "                display(Markdown(f\"**LLM Answer:** {response['result']}\"))\n",
        "            except Exception as e:\n",
        "                print(f\"Error running LangChain RAG chain for question '{question_text}':\")\n",
        "                print(f\"  Type: {type(e)}\")\n",
        "                print(f\"  Error: {e}\")\n",
        "                # The `verbose=True` in the chain should print the generated Cypher before an execution error.\n",
        "                display(Markdown(f\"<font color='red'>**Error processing question:** {e}. Check console for details, including any generated Cypher if verbose=True.</font>\"))\n",
        "\n",
        "    except Exception as e:\n",
        "        print(f\"An error occurred during LangChain RAG setup or execution: {e}\")\n",
        "        display(Markdown(f\"<font color='red'>**LangChain RAG processing failed:** {e}</font>\"))\n",
        "else:\n",
        "    display(Markdown(\"<font color='orange'>**Skipping LangChain GraphCypherQAChain example as prerequisites (Neo4j connection, Ollama LLM) are not met.**</font>\"))"
      ]
    },
    {
      "cell_type": "code",
      "execution_count": 19,
      "id": "975d6b21",
      "metadata": {},
      "outputs": [
        {
          "name": "stdout",
          "output_type": "stream",
          "text": [
            "EFFECTIVE NODE LABELS FOR LLM PROMPT: Component, Directive, File, Interface, Module, Pipe, Service, ExternalOrUnresolved\n",
            "EFFECTIVE RELATIONSHIP TYPES FOR LLM PROMPT: DEFINED_IN, IMPLEMENTS, IMPORTS, INJECTS\n",
            "GraphCypherQAChain initialized successfully with custom prompt and schema.\n"
          ]
        },
        {
          "data": {
            "text/markdown": [
              "---"
            ],
            "text/plain": [
              "<IPython.core.display.Markdown object>"
            ]
          },
          "metadata": {},
          "output_type": "display_data"
        },
        {
          "data": {
            "text/markdown": [
              "### RAG Question 1: What does the UserService inject?"
            ],
            "text/plain": [
              "<IPython.core.display.Markdown object>"
            ]
          },
          "metadata": {},
          "output_type": "display_data"
        },
        {
          "name": "stdout",
          "output_type": "stream",
          "text": [
            "\n",
            "\n",
            "\u001b[1m> Entering new GraphCypherQAChain chain...\u001b[0m\n",
            "Generated Cypher:\n",
            "\u001b[32;1m\u001b[1;3mMATCH (s:Service {name: 'UserService'})-[:INJECTS]->(dep) RETURN dep.name, labels(dep)\u001b[0m\n",
            "Full Context:\n",
            "\u001b[32;1m\u001b[1;3m[{'dep.name': 'Router', 'labels(dep)': ['ExternalOrUnresolved']}, {'dep.name': 'JwtService', 'labels(dep)': ['Service', 'AngularEntity']}, {'dep.name': 'HttpClient', 'labels(dep)': ['ExternalOrUnresolved']}]\u001b[0m\n",
            "\n",
            "\u001b[1m> Finished chain.\u001b[0m\n"
          ]
        },
        {
          "data": {
            "text/markdown": [
              "**LLM Answer:** Router, JwtService, and HttpClient."
            ],
            "text/plain": [
              "<IPython.core.display.Markdown object>"
            ]
          },
          "metadata": {},
          "output_type": "display_data"
        },
        {
          "data": {
            "text/markdown": [
              "---"
            ],
            "text/plain": [
              "<IPython.core.display.Markdown object>"
            ]
          },
          "metadata": {},
          "output_type": "display_data"
        },
        {
          "data": {
            "text/markdown": [
              "### RAG Question 2: Which services or dependencies are injected into the IfAuthenticatedDirective?"
            ],
            "text/plain": [
              "<IPython.core.display.Markdown object>"
            ]
          },
          "metadata": {},
          "output_type": "display_data"
        },
        {
          "name": "stdout",
          "output_type": "stream",
          "text": [
            "\n",
            "\n",
            "\u001b[1m> Entering new GraphCypherQAChain chain...\u001b[0m\n",
            "Generated Cypher:\n",
            "\u001b[32;1m\u001b[1;3mMATCH (d:Directive {name: 'IfAuthenticatedDirective'})-[:INJECTS]->(dep) RETURN dep.name, labels(dep)\u001b[0m\n",
            "Full Context:\n",
            "\u001b[32;1m\u001b[1;3m[{'dep.name': 'ViewContainerRef', 'labels(dep)': ['ExternalOrUnresolved']}, {'dep.name': 'UserService', 'labels(dep)': ['Service', 'AngularEntity']}, {'dep.name': 'TemplateRef<T>', 'labels(dep)': ['ExternalOrUnresolved']}]\u001b[0m\n",
            "\n",
            "\u001b[1m> Finished chain.\u001b[0m\n"
          ]
        },
        {
          "data": {
            "text/markdown": [
              "**LLM Answer:** I don't know the answer."
            ],
            "text/plain": [
              "<IPython.core.display.Markdown object>"
            ]
          },
          "metadata": {},
          "output_type": "display_data"
        },
        {
          "data": {
            "text/markdown": [
              "---"
            ],
            "text/plain": [
              "<IPython.core.display.Markdown object>"
            ]
          },
          "metadata": {},
          "output_type": "display_data"
        },
        {
          "data": {
            "text/markdown": [
              "### RAG Question 3: Find components or services that inject the JwtService."
            ],
            "text/plain": [
              "<IPython.core.display.Markdown object>"
            ]
          },
          "metadata": {},
          "output_type": "display_data"
        },
        {
          "name": "stdout",
          "output_type": "stream",
          "text": [
            "\n",
            "\n",
            "\u001b[1m> Entering new GraphCypherQAChain chain...\u001b[0m\n",
            "Generated Cypher:\n",
            "\u001b[32;1m\u001b[1;3mMATCH (injector:Component|Service {name: 'JwtService'})-[:INJECTS]->(injectee) RETURN injector.name, labels(injector)\u001b[0m\n",
            "Full Context:\n",
            "\u001b[32;1m\u001b[1;3m[]\u001b[0m\n",
            "\n",
            "\u001b[1m> Finished chain.\u001b[0m\n"
          ]
        },
        {
          "data": {
            "text/markdown": [
              "**LLM Answer:** I don't know the answer."
            ],
            "text/plain": [
              "<IPython.core.display.Markdown object>"
            ]
          },
          "metadata": {},
          "output_type": "display_data"
        },
        {
          "data": {
            "text/markdown": [
              "---"
            ],
            "text/plain": [
              "<IPython.core.display.Markdown object>"
            ]
          },
          "metadata": {},
          "output_type": "display_data"
        },
        {
          "data": {
            "text/markdown": [
              "### RAG Question 4: What is the parameter name when ArticlesService injects HttpClient?"
            ],
            "text/plain": [
              "<IPython.core.display.Markdown object>"
            ]
          },
          "metadata": {},
          "output_type": "display_data"
        },
        {
          "name": "stdout",
          "output_type": "stream",
          "text": [
            "\n",
            "\n",
            "\u001b[1m> Entering new GraphCypherQAChain chain...\u001b[0m\n",
            "Generated Cypher:\n",
            "\u001b[32;1m\u001b[1;3mMATCH (a:Component {name: 'ArticlesService'})-[:INJECTS]->(h) WHERE h.name = 'HttpClient' RETURN h.parameterName\u001b[0m\n",
            "Full Context:\n",
            "\u001b[32;1m\u001b[1;3m[]\u001b[0m\n",
            "\n",
            "\u001b[1m> Finished chain.\u001b[0m\n"
          ]
        },
        {
          "data": {
            "text/markdown": [
              "**LLM Answer:** I don't know the answer."
            ],
            "text/plain": [
              "<IPython.core.display.Markdown object>"
            ]
          },
          "metadata": {},
          "output_type": "display_data"
        },
        {
          "data": {
            "text/markdown": [
              "---"
            ],
            "text/plain": [
              "<IPython.core.display.Markdown object>"
            ]
          },
          "metadata": {},
          "output_type": "display_data"
        },
        {
          "data": {
            "text/markdown": [
              "### RAG Question 5: What does the file 'jwt.service.ts' import?"
            ],
            "text/plain": [
              "<IPython.core.display.Markdown object>"
            ]
          },
          "metadata": {},
          "output_type": "display_data"
        },
        {
          "name": "stdout",
          "output_type": "stream",
          "text": [
            "\n",
            "\n",
            "\u001b[1m> Entering new GraphCypherQAChain chain...\u001b[0m\n",
            "Generated Cypher:\n",
            "\u001b[32;1m\u001b[1;3mMATCH (f:File {name: 'jwt.service.ts'})-[:IMPORTS]->(ext:ExternalOrUnresolved) RETURN ext.name, ext.originalId\u001b[0m\n",
            "Full Context:\n",
            "\u001b[32;1m\u001b[1;3m[{'ext.name': '@angular/core', 'ext.originalId': 'External:@angular/core'}]\u001b[0m\n",
            "\n",
            "\u001b[1m> Finished chain.\u001b[0m\n"
          ]
        },
        {
          "data": {
            "text/markdown": [
              "**LLM Answer:** @angular/core."
            ],
            "text/plain": [
              "<IPython.core.display.Markdown object>"
            ]
          },
          "metadata": {},
          "output_type": "display_data"
        },
        {
          "data": {
            "text/markdown": [
              "---"
            ],
            "text/plain": [
              "<IPython.core.display.Markdown object>"
            ]
          },
          "metadata": {},
          "output_type": "display_data"
        },
        {
          "data": {
            "text/markdown": [
              "### RAG Question 6: List imports for 'user.service.ts'."
            ],
            "text/plain": [
              "<IPython.core.display.Markdown object>"
            ]
          },
          "metadata": {},
          "output_type": "display_data"
        },
        {
          "name": "stdout",
          "output_type": "stream",
          "text": [
            "\n",
            "\n",
            "\u001b[1m> Entering new GraphCypherQAChain chain...\u001b[0m\n",
            "Generated Cypher:\n",
            "\u001b[32;1m\u001b[1;3mMATCH (f:File {name: 'user.service.ts'})-[:IMPORTS]->(ext:ExternalOrUnresolved) RETURN ext.name, ext.originalId;\u001b[0m\n",
            "Full Context:\n",
            "\u001b[32;1m\u001b[1;3m[{'ext.name': '@angular/router', 'ext.originalId': 'External:@angular/router'}, {'ext.name': '../user.model', 'ext.originalId': 'External:../user.model'}, {'ext.name': '@angular/common/http', 'ext.originalId': 'External:@angular/common/http'}, {'ext.name': 'rxjs/operators', 'ext.originalId': 'External:rxjs/operators'}, {'ext.name': './jwt.service', 'ext.originalId': 'External:./jwt.service'}, {'ext.name': 'rxjs', 'ext.originalId': 'External:rxjs'}, {'ext.name': '@angular/core', 'ext.originalId': 'External:@angular/core'}]\u001b[0m\n",
            "\n",
            "\u001b[1m> Finished chain.\u001b[0m\n"
          ]
        },
        {
          "data": {
            "text/markdown": [
              "**LLM Answer:** @angular/router, ../user.model, @angular/common/http, rxjs/operators, ./jwt.service, rxjs, @angular/core."
            ],
            "text/plain": [
              "<IPython.core.display.Markdown object>"
            ]
          },
          "metadata": {},
          "output_type": "display_data"
        },
        {
          "data": {
            "text/markdown": [
              "---"
            ],
            "text/plain": [
              "<IPython.core.display.Markdown object>"
            ]
          },
          "metadata": {},
          "output_type": "display_data"
        },
        {
          "data": {
            "text/markdown": [
              "### RAG Question 7: Which files import '@angular/core'?"
            ],
            "text/plain": [
              "<IPython.core.display.Markdown object>"
            ]
          },
          "metadata": {},
          "output_type": "display_data"
        },
        {
          "name": "stdout",
          "output_type": "stream",
          "text": [
            "\n",
            "\n",
            "\u001b[1m> Entering new GraphCypherQAChain chain...\u001b[0m\n",
            "Generated Cypher:\n",
            "\u001b[32;1m\u001b[1;3mMATCH (f:File)-[:IMPORTS]->(ext:ExternalOrUnresolved {name: '@angular/core'}) RETURN f.name, f.filePath;\u001b[0m\n",
            "Full Context:\n",
            "\u001b[32;1m\u001b[1;3m[{'f.name': 'app.config.ts', 'f.filePath': 'src/app/app.config.ts'}, {'f.name': 'token.interceptor.ts', 'f.filePath': 'src/app/core/interceptors/token.interceptor.ts'}, {'f.name': 'app.routes.ts', 'f.filePath': 'src/app/app.routes.ts'}, {'f.name': 'article.component.ts', 'f.filePath': 'src/app/features/article/pages/article/article.component.ts'}, {'f.name': 'article-comment.component.ts', 'f.filePath': 'src/app/features/article/components/article-comment.component.ts'}, {'f.name': 'markdown.pipe.ts', 'f.filePath': 'src/app/shared/pipes/markdown.pipe.ts'}, {'f.name': 'comments.service.ts', 'f.filePath': 'src/app/features/article/services/comments.service.ts'}, {'f.name': 'editor.component.ts', 'f.filePath': 'src/app/features/article/pages/editor/editor.component.ts'}, {'f.name': 'profile-favorites.component.ts', 'f.filePath': 'src/app/features/profile/components/profile-favorites.component.ts'}, {'f.name': 'profile-articles.component.ts', 'f.filePath': 'src/app/features/profile/components/profile-articles.component.ts'}]\u001b[0m\n",
            "\n",
            "\u001b[1m> Finished chain.\u001b[0m\n"
          ]
        },
        {
          "data": {
            "text/markdown": [
              "**LLM Answer:** app.config.ts, token.interceptor.ts, app.routes.ts, article.component.ts, article-comment.component.ts, markdown.pipe.ts, editor.component.ts, profile-favorites.component.ts, profile-articles.component.ts."
            ],
            "text/plain": [
              "<IPython.core.display.Markdown object>"
            ]
          },
          "metadata": {},
          "output_type": "display_data"
        },
        {
          "data": {
            "text/markdown": [
              "---"
            ],
            "text/plain": [
              "<IPython.core.display.Markdown object>"
            ]
          },
          "metadata": {},
          "output_type": "display_data"
        },
        {
          "data": {
            "text/markdown": [
              "### RAG Question 8: What interfaces does the IfAuthenticatedDirective implement?"
            ],
            "text/plain": [
              "<IPython.core.display.Markdown object>"
            ]
          },
          "metadata": {},
          "output_type": "display_data"
        },
        {
          "name": "stdout",
          "output_type": "stream",
          "text": [
            "\n",
            "\n",
            "\u001b[1m> Entering new GraphCypherQAChain chain...\u001b[0m\n",
            "Generated Cypher:\n",
            "\u001b[32;1m\u001b[1;3mMATCH (d:Directive {name: 'IfAuthenticatedDirective'})-[:IMPLEMENTS]->(i:ExternalOrUnresolved) RETURN i.name, labels(i)\u001b[0m\n",
            "Full Context:\n",
            "\u001b[32;1m\u001b[1;3m[{'i.name': 'OnInit', 'labels(i)': ['ExternalOrUnresolved']}]\u001b[0m\n",
            "\n",
            "\u001b[1m> Finished chain.\u001b[0m\n"
          ]
        },
        {
          "data": {
            "text/markdown": [
              "**LLM Answer:** OnInit implements ExternalOrUnresolved."
            ],
            "text/plain": [
              "<IPython.core.display.Markdown object>"
            ]
          },
          "metadata": {},
          "output_type": "display_data"
        },
        {
          "data": {
            "text/markdown": [
              "---"
            ],
            "text/plain": [
              "<IPython.core.display.Markdown object>"
            ]
          },
          "metadata": {},
          "output_type": "display_data"
        },
        {
          "data": {
            "text/markdown": [
              "### RAG Question 9: Which directives or pipes implement 'OnInit'?"
            ],
            "text/plain": [
              "<IPython.core.display.Markdown object>"
            ]
          },
          "metadata": {},
          "output_type": "display_data"
        },
        {
          "name": "stdout",
          "output_type": "stream",
          "text": [
            "\n",
            "\n",
            "\u001b[1m> Entering new GraphCypherQAChain chain...\u001b[0m\n",
            "Generated Cypher:\n",
            "\u001b[32;1m\u001b[1;3mMATCH (d:Directive|p:Pipe)-[:IMPLEMENTS]->(i:ExternalOrUnresolved {name: 'OnInit'}) RETURN d, p;\u001b[0m\n",
            "Error running LangChain RAG chain for question 'Which directives or pipes implement 'OnInit'?':\n",
            "  Type: <class 'neo4j.exceptions.CypherSyntaxError'>\n",
            "  Error: {code: Neo.ClientError.Statement.SyntaxError} {message: Mixing label expression symbols ('|', '&', '!', and '%') with colon (':') between labels is not allowed. Please only use one set of symbols. This expression could be expressed as :Directive|(p&Pipe). (line 1, column 21 (offset: 20))\n",
            "\"MATCH (d:Directive|p:Pipe)-[:IMPLEMENTS]->(i:ExternalOrUnresolved {name: 'OnInit'}) RETURN d, p;\"\n",
            "                     ^}\n"
          ]
        },
        {
          "data": {
            "text/markdown": [
              "<font color='red'>**Error processing question:** {code: Neo.ClientError.Statement.SyntaxError} {message: Mixing label expression symbols ('|', '&', '!', and '%') with colon (':') between labels is not allowed. Please only use one set of symbols. This expression could be expressed as :Directive|(p&Pipe). (line 1, column 21 (offset: 20))\n",
              "\"MATCH (d:Directive|p:Pipe)-[:IMPLEMENTS]->(i:ExternalOrUnresolved {name: 'OnInit'}) RETURN d, p;\"\n",
              "                     ^}. Check console for details, including any generated Cypher if verbose=True.</font>"
            ],
            "text/plain": [
              "<IPython.core.display.Markdown object>"
            ]
          },
          "metadata": {},
          "output_type": "display_data"
        },
        {
          "data": {
            "text/markdown": [
              "---"
            ],
            "text/plain": [
              "<IPython.core.display.Markdown object>"
            ]
          },
          "metadata": {},
          "output_type": "display_data"
        },
        {
          "data": {
            "text/markdown": [
              "### RAG Question 10: In which file is the JwtService defined?"
            ],
            "text/plain": [
              "<IPython.core.display.Markdown object>"
            ]
          },
          "metadata": {},
          "output_type": "display_data"
        },
        {
          "name": "stdout",
          "output_type": "stream",
          "text": [
            "\n",
            "\n",
            "\u001b[1m> Entering new GraphCypherQAChain chain...\u001b[0m\n",
            "Generated Cypher:\n",
            "\u001b[32;1m\u001b[1;3mMATCH (s:Service {name: 'JwtService'})-[:DEFINED_IN]->(f:File) RETURN f.name, f.filePath;\u001b[0m\n",
            "Full Context:\n",
            "\u001b[32;1m\u001b[1;3m[{'f.name': 'jwt.service.ts', 'f.filePath': 'src/app/core/auth/services/jwt.service.ts'}]\u001b[0m\n",
            "\n",
            "\u001b[1m> Finished chain.\u001b[0m\n"
          ]
        },
        {
          "data": {
            "text/markdown": [
              "**LLM Answer:** The JwtService is defined in src/app/core/auth/services/jwt.service.ts."
            ],
            "text/plain": [
              "<IPython.core.display.Markdown object>"
            ]
          },
          "metadata": {},
          "output_type": "display_data"
        },
        {
          "data": {
            "text/markdown": [
              "---"
            ],
            "text/plain": [
              "<IPython.core.display.Markdown object>"
            ]
          },
          "metadata": {},
          "output_type": "display_data"
        },
        {
          "data": {
            "text/markdown": [
              "### RAG Question 11: What components or services are defined in the file 'if-authenticated.directive.ts'?"
            ],
            "text/plain": [
              "<IPython.core.display.Markdown object>"
            ]
          },
          "metadata": {},
          "output_type": "display_data"
        },
        {
          "name": "stdout",
          "output_type": "stream",
          "text": [
            "\n",
            "\n",
            "\u001b[1m> Entering new GraphCypherQAChain chain...\u001b[0m\n",
            "Generated Cypher:\n",
            "\u001b[32;1m\u001b[1;3mMATCH (f:File {name: 'if-authenticated.directive.ts'})-[:DEFINED_IN]->(c:Component|Service) RETURN c.name, labels(c);\u001b[0m\n",
            "Full Context:\n",
            "\u001b[32;1m\u001b[1;3m[]\u001b[0m\n",
            "\n",
            "\u001b[1m> Finished chain.\u001b[0m\n"
          ]
        },
        {
          "data": {
            "text/markdown": [
              "**LLM Answer:** I don't know the answer."
            ],
            "text/plain": [
              "<IPython.core.display.Markdown object>"
            ]
          },
          "metadata": {},
          "output_type": "display_data"
        },
        {
          "data": {
            "text/markdown": [
              "---"
            ],
            "text/plain": [
              "<IPython.core.display.Markdown object>"
            ]
          },
          "metadata": {},
          "output_type": "display_data"
        },
        {
          "data": {
            "text/markdown": [
              "### RAG Question 12: What is the selector for the HeaderComponent?"
            ],
            "text/plain": [
              "<IPython.core.display.Markdown object>"
            ]
          },
          "metadata": {},
          "output_type": "display_data"
        },
        {
          "name": "stdout",
          "output_type": "stream",
          "text": [
            "\n",
            "\n",
            "\u001b[1m> Entering new GraphCypherQAChain chain...\u001b[0m\n"
          ]
        },
        {
          "name": "stderr",
          "output_type": "stream",
          "text": [
            "Received notification from DBMS server: {severity: WARNING} {code: Neo.ClientNotification.Statement.UnknownRelationshipTypeWarning} {category: UNRECOGNIZED} {title: The provided relationship type is not in the database.} {description: One of the relationship types in your query is not available in the database, make sure you didn't misspell it or that the label is available when you run this statement in your application (the missing relationship type is: HAS)} {position: line: 1, column: 76, offset: 75} for query: \"MATCH (h:Component {name: 'HeaderComponent'})-[:DEFINED_IN]->(file:File)-[:HAS]->(selector) RETURN selector.name\"\n"
          ]
        },
        {
          "name": "stdout",
          "output_type": "stream",
          "text": [
            "Generated Cypher:\n",
            "\u001b[32;1m\u001b[1;3mMATCH (h:Component {name: 'HeaderComponent'})-[:DEFINED_IN]->(file:File)-[:HAS]->(selector) RETURN selector.name\u001b[0m\n",
            "Full Context:\n",
            "\u001b[32;1m\u001b[1;3m[]\u001b[0m\n",
            "\n",
            "\u001b[1m> Finished chain.\u001b[0m\n"
          ]
        },
        {
          "data": {
            "text/markdown": [
              "**LLM Answer:** I don't know the answer."
            ],
            "text/plain": [
              "<IPython.core.display.Markdown object>"
            ]
          },
          "metadata": {},
          "output_type": "display_data"
        },
        {
          "data": {
            "text/markdown": [
              "---"
            ],
            "text/plain": [
              "<IPython.core.display.Markdown object>"
            ]
          },
          "metadata": {},
          "output_type": "display_data"
        },
        {
          "data": {
            "text/markdown": [
              "### RAG Question 13: Find services that are 'providedIn: root'."
            ],
            "text/plain": [
              "<IPython.core.display.Markdown object>"
            ]
          },
          "metadata": {},
          "output_type": "display_data"
        },
        {
          "name": "stdout",
          "output_type": "stream",
          "text": [
            "\n",
            "\n",
            "\u001b[1m> Entering new GraphCypherQAChain chain...\u001b[0m\n",
            "Generated Cypher:\n",
            "\u001b[32;1m\u001b[1;3mMATCH (s:Service {providedIn: 'root'}) RETURN s.name, s.id\u001b[0m\n",
            "Full Context:\n",
            "\u001b[32;1m\u001b[1;3m[{'s.name': 'JwtService', 's.id': 'Service:JwtService:src/app/core/auth/services/jwt.service.ts'}, {'s.name': 'UserService', 's.id': 'Service:UserService:src/app/core/auth/services/user.service.ts'}, {'s.name': 'TagsService', 's.id': 'Service:TagsService:src/app/features/article/services/tags.service.ts'}, {'s.name': 'ArticlesService', 's.id': 'Service:ArticlesService:src/app/features/article/services/articles.service.ts'}, {'s.name': 'ProfileService', 's.id': 'Service:ProfileService:src/app/features/profile/services/profile.service.ts'}, {'s.name': 'CommentsService', 's.id': 'Service:CommentsService:src/app/features/article/services/comments.service.ts'}]\u001b[0m\n",
            "\n",
            "\u001b[1m> Finished chain.\u001b[0m\n"
          ]
        },
        {
          "data": {
            "text/markdown": [
              "**LLM Answer:** JwtService, UserService, TagsService, ArticlesService, ProfileService, CommentsService are the services provided in 'root'."
            ],
            "text/plain": [
              "<IPython.core.display.Markdown object>"
            ]
          },
          "metadata": {},
          "output_type": "display_data"
        },
        {
          "data": {
            "text/markdown": [
              "---"
            ],
            "text/plain": [
              "<IPython.core.display.Markdown object>"
            ]
          },
          "metadata": {},
          "output_type": "display_data"
        },
        {
          "data": {
            "text/markdown": [
              "### RAG Question 14: What is the pipeName for the MarkdownPipe?"
            ],
            "text/plain": [
              "<IPython.core.display.Markdown object>"
            ]
          },
          "metadata": {},
          "output_type": "display_data"
        },
        {
          "name": "stdout",
          "output_type": "stream",
          "text": [
            "\n",
            "\n",
            "\u001b[1m> Entering new GraphCypherQAChain chain...\u001b[0m\n"
          ]
        },
        {
          "name": "stderr",
          "output_type": "stream",
          "text": [
            "Received notification from DBMS server: {severity: WARNING} {code: Neo.ClientNotification.Statement.UnknownRelationshipTypeWarning} {category: UNRECOGNIZED} {title: The provided relationship type is not in the database.} {description: One of the relationship types in your query is not available in the database, make sure you didn't misspell it or that the label is available when you run this statement in your application (the missing relationship type is: HAS_PIPE_NAME)} {position: line: 1, column: 41, offset: 40} for query: \"MATCH (p:Pipe {name: 'MarkdownPipe'})-[:HAS_PIPE_NAME]->(pipe_name) RETURN pipe_name.name\"\n"
          ]
        },
        {
          "name": "stdout",
          "output_type": "stream",
          "text": [
            "Generated Cypher:\n",
            "\u001b[32;1m\u001b[1;3mMATCH (p:Pipe {name: 'MarkdownPipe'})-[:HAS_PIPE_NAME]->(pipe_name) RETURN pipe_name.name\u001b[0m\n",
            "Full Context:\n",
            "\u001b[32;1m\u001b[1;3m[]\u001b[0m\n",
            "\n",
            "\u001b[1m> Finished chain.\u001b[0m\n"
          ]
        },
        {
          "data": {
            "text/markdown": [
              "**LLM Answer:** I don't know the answer."
            ],
            "text/plain": [
              "<IPython.core.display.Markdown object>"
            ]
          },
          "metadata": {},
          "output_type": "display_data"
        },
        {
          "data": {
            "text/markdown": [
              "---"
            ],
            "text/plain": [
              "<IPython.core.display.Markdown object>"
            ]
          },
          "metadata": {},
          "output_type": "display_data"
        },
        {
          "data": {
            "text/markdown": [
              "### RAG Question 15: Find services that are injected by components defined in 'article-list.component.ts'."
            ],
            "text/plain": [
              "<IPython.core.display.Markdown object>"
            ]
          },
          "metadata": {},
          "output_type": "display_data"
        },
        {
          "name": "stdout",
          "output_type": "stream",
          "text": [
            "\n",
            "\n",
            "\u001b[1m> Entering new GraphCypherQAChain chain...\u001b[0m\n",
            "Generated Cypher:\n",
            "\u001b[32;1m\u001b[1;3mMATCH (c:Component {name: 'article-list.component.ts'})-[:DEFINED_IN]->(f:File)-[r:INJECTS]-(s:Service) RETURN s.name, labels(s)\u001b[0m\n",
            "Full Context:\n",
            "\u001b[32;1m\u001b[1;3m[]\u001b[0m\n",
            "\n",
            "\u001b[1m> Finished chain.\u001b[0m\n"
          ]
        },
        {
          "data": {
            "text/markdown": [
              "**LLM Answer:** I don't know the answer."
            ],
            "text/plain": [
              "<IPython.core.display.Markdown object>"
            ]
          },
          "metadata": {},
          "output_type": "display_data"
        },
        {
          "data": {
            "text/markdown": [
              "---"
            ],
            "text/plain": [
              "<IPython.core.display.Markdown object>"
            ]
          },
          "metadata": {},
          "output_type": "display_data"
        },
        {
          "data": {
            "text/markdown": [
              "### RAG Question 16: List the original import paths ('from' property) for all imports in 'user.service.ts'."
            ],
            "text/plain": [
              "<IPython.core.display.Markdown object>"
            ]
          },
          "metadata": {},
          "output_type": "display_data"
        },
        {
          "name": "stdout",
          "output_type": "stream",
          "text": [
            "\n",
            "\n",
            "\u001b[1m> Entering new GraphCypherQAChain chain...\u001b[0m\n",
            "Generated Cypher:\n",
            "\u001b[32;1m\u001b[1;3mMATCH (f:File {name: 'user.service.ts'})-[:IMPORTS]->(ext:ExternalOrUnresolved)\n",
            "RETURN ext.name, f.from AS originalImportPath\u001b[0m\n",
            "Full Context:\n",
            "\u001b[32;1m\u001b[1;3m[{'ext.name': '@angular/router', 'originalImportPath': None}, {'ext.name': '../user.model', 'originalImportPath': None}, {'ext.name': '@angular/common/http', 'originalImportPath': None}, {'ext.name': 'rxjs/operators', 'originalImportPath': None}, {'ext.name': './jwt.service', 'originalImportPath': None}, {'ext.name': 'rxjs', 'originalImportPath': None}, {'ext.name': '@angular/core', 'originalImportPath': None}]\u001b[0m\n",
            "\n",
            "\u001b[1m> Finished chain.\u001b[0m\n"
          ]
        },
        {
          "data": {
            "text/markdown": [
              "**LLM Answer:** I don't know the answer."
            ],
            "text/plain": [
              "<IPython.core.display.Markdown object>"
            ]
          },
          "metadata": {},
          "output_type": "display_data"
        }
      ],
      "source": [
        "if LANGCHAIN_INTEGRATION_POSSIBLE and graph is not None and llm is not None:\n",
        "    # --- Define an accurate schema description for the LLM ---\n",
        "    # This description is critical for the LLM to generate correct Cypher queries.\n",
        "\n",
        "    # Dynamically fetch labels and relationship types from your actual graph\n",
        "    # to ensure the description is as accurate as possible.\n",
        "    try:\n",
        "        raw_node_labels_result = graph.query(\n",
        "            \"CALL db.labels() YIELD label RETURN label\"\n",
        "        )\n",
        "        # Filter out generic/internal labels that might confuse the LLM\n",
        "        node_labels_list = sorted(\n",
        "            [\n",
        "                item[\"label\"]\n",
        "                for item in raw_node_labels_result\n",
        "                if item[\"label\"]\n",
        "                not in [\n",
        "                    \"_Node\",\n",
        "                    \"AngularEntity\",\n",
        "                    \"BaseNode\",\n",
        "                    \"UnknownEntity\",\n",
        "                    \"ExternalOrUnresolved\",\n",
        "                    \"UnknownNode\",\n",
        "                ]  # Add any other generic labels to exclude\n",
        "            ]\n",
        "        )\n",
        "        # Add back 'ExternalOrUnresolved' explicitly as it's a special type we handle\n",
        "        if (\n",
        "            \"ExternalOrUnresolved\" not in node_labels_list\n",
        "            and graph.query(\n",
        "                \"MATCH (n:ExternalOrUnresolved) RETURN count(n) > 0 AS ex LIMIT 1\"\n",
        "            )[0][\"ex\"]\n",
        "        ):\n",
        "            node_labels_list.append(\"ExternalOrUnresolved\")\n",
        "        node_labels_str = \", \".join(node_labels_list)\n",
        "\n",
        "        raw_rel_types_result = graph.query(\n",
        "            \"CALL db.relationshipTypes() YIELD relationshipType RETURN relationshipType\"\n",
        "        )\n",
        "        rel_types_list = sorted(\n",
        "            [item[\"relationshipType\"] for item in raw_rel_types_result]\n",
        "        )\n",
        "        rel_types_str = \", \".join(rel_types_list)\n",
        "\n",
        "        print(f\"EFFECTIVE NODE LABELS FOR LLM PROMPT: {node_labels_str}\")\n",
        "        print(f\"EFFECTIVE RELATIONSHIP TYPES FOR LLM PROMPT: {rel_types_str}\")\n",
        "\n",
        "    except Exception as e:\n",
        "        print(\n",
        "            f\"Warning: Could not dynamically fetch schema components for LLM prompt: {e}\"\n",
        "        )\n",
        "        # Fallback if DB query fails - **ADJUST THESE TO YOUR EXPECTED PARSED LABELS/RELS**\n",
        "        node_labels_str = \"Class, Component, Directive, File, Interface, Module, Pipe, Service, ExternalOrUnresolved\"\n",
        "        rel_types_str = \"BOOTSTRAPS, DECLARES, DEFINED_IN, EXPORTS_MODULE, IMPLEMENTS, IMPORTS, IMPORTS_MODULE, INJECTS, PROVIDES\"\n",
        "        print(f\"Using FALLBACK NODE LABELS: {node_labels_str}\")\n",
        "        print(f\"Using FALLBACK RELATIONSHIP TYPES: {rel_types_str}\")\n",
        "\n",
        "    # This is the text description of your schema you provide to the LLM.\n",
        "    # Be very specific about node properties it should use.\n",
        "    MANUAL_GRAPH_SCHEMA_DESCRIPTION = f\"\"\"\n",
        "The graph database contains information about an Angular codebase.\n",
        "Relevant Node Labels found in the graph are: {node_labels_str}.\n",
        "Relevant Relationship Types found in the graph are: {rel_types_str}. (Note: 'DEFINED_IN' relationships from entities to their defining File are also present but added during data loading).\n",
        "\n",
        "Key Node Properties and Details:\n",
        "- Common properties: 'id' (string, unique business identifier like \"Component:Name:path/to/file.ts\"), 'name' (string, e.g., \"AppComponent\"), 'filePath' (string, relative path to the file).\n",
        "- 'File': Represents a .ts source file.\n",
        "- 'Component': Has 'selector' (string), 'templateUrl' (string), 'styleUrls' (list of strings).\n",
        "- 'Service': Has 'providedIn' (string, e.g., \"root\").\n",
        "- 'Directive': Has 'selector' (string).\n",
        "- 'Pipe': Has 'pipeName' (string).\n",
        "- 'Interface': Represents a TypeScript interface.\n",
        "- 'ExternalOrUnresolved': Node created by data loader for `targetId`s prefixed with `External:`, `Unresolved:`, or `Ambiguous:`. It has a 'name' property (e.g., \"rxjs\", \"HttpClient\", \"OnInit\") and an 'originalId' property.\n",
        "\n",
        "Key Relationship Meanings and Usage (based on current parser output):\n",
        "- (source_entity)-[:DEFINED_IN]->(file_node:File): Indicates that 'source_entity' (e.g., a Component, Service) is defined in the 'file_node'. (This relationship is added by the neo4j_loader.py script, not directly in the parser's JSON output).\n",
        "- (source_file:File)-[:IMPORTS]->(target:ExternalOrUnresolved): The 'source_file' imports something. The 'target' node will be an 'ExternalOrUnresolved' node, with its 'name' property often reflecting the imported module path (e.g., \"@angular/core\", \"./jwt.service\") or type name. The relationship has a 'from' property (string, the original import path string from the code).\n",
        "- (injector:Component|Service|Directive)-[:INJECTS]->(injectee): The 'injector' injects 'injectee'. 'injectee' can be a resolved 'Service' node OR an 'ExternalOrUnresolved' node (e.g., for 'HttpClient', 'Router'). The relationship has a 'parameterName' property.\n",
        "- (class_entity:Component|Service|Directive|Pipe)-[:IMPLEMENTS]->(interface_target:ExternalOrUnresolved): The 'class_entity' implements an interface. 'interface_target' will be an 'ExternalOrUnresolved' node with its 'name' property being the interface name (e.g., \"OnInit\", \"PipeTransform\").\n",
        "\n",
        "Querying Guidelines for LLM:\n",
        "- Use the specific node labels: Component, Service, Directive, Pipe, File, Interface, ExternalOrUnresolved.\n",
        "- String values in Cypher MATCH patterns (e.g., for properties like 'name' or 'filePath') MUST be enclosed in single or double quotes (e.g., `{{name: 'UserService'}}`).\n",
        "- To find what a file imports, query `(f:File {{name: 'some.file.ts'}})-[:IMPORTS]->(ext:ExternalOrUnresolved) RETURN ext.name, ext.originalId`.\n",
        "- To find what is injected into a component/service, query `(c:Component {{name: 'SomeComponent'}})-[:INJECTS]->(dep) RETURN dep.name, labels(dep)`. 'dep' might be a :Service or :ExternalOrUnresolved.\n",
        "- Questions about Modules (declarations, providers, module imports) CANNOT be answered with direct relationships like :DECLARES or :PROVIDES with the current graph structure.\n",
        "\"\"\"\n",
        "\n",
        "    # --- Construct a custom Cypher generation prompt ---\n",
        "    CYPHER_GENERATION_PROMPT_TEMPLATE = \"\"\"Task:Generate Cypher query to query a graph database.\n",
        "Instructions:\n",
        "Use only the node labels and relationship types provided in the schema. Do not use any other node labels or relationship types not listed.\n",
        "The Cypher query must be syntactically correct and be supported by Neo4j.\n",
        "Always quote string values in the Cypher query. For example, use `name: 'MyComponent'` not `name: MyComponent`.\n",
        "IMPORTANT: Your response MUST be ONLY the Cypher query itself. Do NOT include any other text, explanations, or markdown formatting like ```.\n",
        "Start your response directly with 'MATCH', 'OPTIONAL MATCH', or 'RETURN' if it's a simple return.\n",
        "\n",
        "Schema:\n",
        "{schema}\n",
        "\n",
        "Question: {question}\n",
        "Cypher Query:\"\"\"  # Ensure no trailing newlines or spaces\n",
        "    CYPHER_PROMPT = PromptTemplate(\n",
        "        input_variables=[\"schema\", \"question\"],\n",
        "        template=CYPHER_GENERATION_PROMPT_TEMPLATE,\n",
        "    )\n",
        "\n",
        "    # --- Initialize GraphCypherQAChain with the custom prompt ---\n",
        "    try:\n",
        "        chain = GraphCypherQAChain.from_llm(\n",
        "            llm=llm,\n",
        "            graph=graph,\n",
        "            cypher_prompt=CYPHER_PROMPT.partial(\n",
        "                schema=MANUAL_GRAPH_SCHEMA_DESCRIPTION\n",
        "            ),  # Inject our schema description\n",
        "            verbose=True,\n",
        "            allow_dangerous_requests=True,  # Allow LLM to generate Cypher queries that might be dangerous (e.g., DELETE)\n",
        "            # validate_cypher=True, # Optional: set to True for debugging LLM's Cypher. Can be slow.\n",
        "            # top_k=5 # Optional: limit number of graph results passed to LLM for final answer\n",
        "        )\n",
        "        print(\n",
        "            \"GraphCypherQAChain initialized successfully with custom prompt and schema.\"\n",
        "        )\n",
        "\n",
        "        # --- Define questions for the RAG system ---\n",
        "        questions_to_ask = [\n",
        "            # INJECTS relationship queries\n",
        "            \"What does the UserService inject?\",\n",
        "            \"Which services or dependencies are injected into the IfAuthenticatedDirective?\",\n",
        "            \"Find components or services that inject the JwtService.\",  # Reverse query\n",
        "            \"What is the parameter name when ArticlesService injects HttpClient?\",  # Tests rel property (if HttpClient resolves to ExternalOrUnresolved)\n",
        "            # IMPORTS relationship queries (will point to ExternalOrUnresolved nodes)\n",
        "            \"What does the file 'jwt.service.ts' import?\",  # Should be src/app/core/auth/services/jwt.service.ts\n",
        "            \"List imports for 'user.service.ts'.\",\n",
        "            \"Which files import '@angular/core'?\",  # This will be many files pointing to the same ExternalOrUnresolved node\n",
        "            # IMPLEMENTS relationship queries (will point to ExternalOrUnresolved nodes)\n",
        "            \"What interfaces does the IfAuthenticatedDirective implement?\",\n",
        "            \"Which directives or pipes implement 'OnInit'?\",  # 'OnInit' will be an ExternalOrUnresolved node\n",
        "            # DEFINED_IN relationship queries (this relies on neo4j_loader.py adding it)\n",
        "            \"In which file is the JwtService defined?\",\n",
        "            \"What components or services are defined in the file 'if-authenticated.directive.ts'?\",\n",
        "            # Property-based queries\n",
        "            \"What is the selector for the HeaderComponent?\",\n",
        "            \"Find services that are 'providedIn: root'.\",\n",
        "            \"What is the pipeName for the MarkdownPipe?\",\n",
        "            # More complex, potentially multi-hop using existing relationships\n",
        "            \"Find services that are injected by components defined in 'article-list.component.ts'.\",  # Component -> DEFINED_IN -> File, Component -> INJECTS -> Service\n",
        "            \"List the original import paths ('from' property) for all imports in 'user.service.ts'.\",\n",
        "        ]\n",
        "\n",
        "        for i, question_text in enumerate(questions_to_ask):\n",
        "            display(Markdown(f\"---\"))\n",
        "            display(Markdown(f\"### RAG Question {i + 1}: {question_text}\"))\n",
        "            try:\n",
        "                response = chain.invoke({\"query\": question_text})\n",
        "                display(Markdown(f\"**LLM Answer:** {response['result']}\"))\n",
        "            except Exception as e:\n",
        "                print(\n",
        "                    f\"Error running LangChain RAG chain for question '{question_text}':\"\n",
        "                )\n",
        "                print(f\"  Type: {type(e)}\")\n",
        "                print(f\"  Error: {e}\")\n",
        "                # The `verbose=True` in the chain should print the generated Cypher before an execution error.\n",
        "                display(\n",
        "                    Markdown(\n",
        "                        f\"<font color='red'>**Error processing question:** {e}. Check console for details, including any generated Cypher if verbose=True.</font>\"\n",
        "                    )\n",
        "                )\n",
        "\n",
        "    except Exception as e:\n",
        "        print(f\"An error occurred during LangChain RAG setup or execution: {e}\")\n",
        "        display(\n",
        "            Markdown(\n",
        "                f\"<font color='red'>**LangChain RAG processing failed:** {e}</font>\"\n",
        "            )\n",
        "        )\n",
        "else:\n",
        "    display(\n",
        "        Markdown(\n",
        "            \"<font color='orange'>**Skipping LangChain GraphCypherQAChain example as prerequisites (Neo4j connection, Ollama LLM) are not met.**</font>\"\n",
        "        )\n",
        "    )"
      ]
    },
    {
      "cell_type": "code",
      "execution_count": null,
      "id": "c0ddb672",
      "metadata": {},
      "outputs": [
        {
          "data": {
            "text/markdown": [
              "## 5.2 Handling Complex Questions with Decomposition (Chain of Thought)\n"
            ],
            "text/plain": [
              "<IPython.core.display.Markdown object>"
            ]
          },
          "metadata": {},
          "output_type": "display_data"
        },
        {
          "data": {
            "text/markdown": [
              "---"
            ],
            "text/plain": [
              "<IPython.core.display.Markdown object>"
            ]
          },
          "metadata": {},
          "output_type": "display_data"
        },
        {
          "data": {
            "text/markdown": [
              "### Processing Complex Question: What services are ultimately used by the 'IfAuthenticatedDirective', considering services it injects directly, and then services that THOSE directly injected services might inject (one further level deep)?"
            ],
            "text/plain": [
              "<IPython.core.display.Markdown object>"
            ]
          },
          "metadata": {},
          "output_type": "display_data"
        },
        {
          "name": "stdout",
          "output_type": "stream",
          "text": [
            "\n",
            ">>> Executing sub-question for context: \"Which services are directly injected into the IfAuthenticatedDirective?\"\n",
            "\n",
            "\n",
            "\u001b[1m> Entering new GraphCypherQAChain chain...\u001b[0m\n",
            "Generated Cypher:\n",
            "\u001b[32;1m\u001b[1;3mMATCH (d:Directive {name: 'IfAuthenticatedDirective'})-[:INJECTS]->(s:Service) RETURN s.name, labels(s)\u001b[0m\n",
            "Full Context:\n",
            "\u001b[32;1m\u001b[1;3m[{'s.name': 'UserService', 'labels(s)': ['Service', 'AngularEntity']}]\u001b[0m\n",
            "\n",
            "\u001b[1m> Finished chain.\u001b[0m\n",
            "<<< Context from sub-question: \"UserService.\"\n",
            "\n",
            ">>> Executing sub-question for context: \"What services does the UserService inject?\"\n",
            "\n",
            "\n",
            "\u001b[1m> Entering new GraphCypherQAChain chain...\u001b[0m\n",
            "Generated Cypher:\n",
            "\u001b[32;1m\u001b[1;3mMATCH (s:Service {name: 'UserService'})-[:INJECTS]->(dep) RETURN dep.name, labels(dep)\u001b[0m\n",
            "Full Context:\n",
            "\u001b[32;1m\u001b[1;3m[{'dep.name': 'Router', 'labels(dep)': ['ExternalOrUnresolved']}, {'dep.name': 'JwtService', 'labels(dep)': ['Service', 'AngularEntity']}, {'dep.name': 'HttpClient', 'labels(dep)': ['ExternalOrUnresolved']}]\u001b[0m\n",
            "\n",
            "\u001b[1m> Finished chain.\u001b[0m\n",
            "<<< Context from sub-question: \"Router, JwtService, HttpClient.\"\n"
          ]
        },
        {
          "name": "stderr",
          "output_type": "stream",
          "text": [
            "/tmp/ipykernel_8842/1341281640.py:88: LangChainDeprecationWarning: The class `LLMChain` was deprecated in LangChain 0.1.17 and will be removed in 1.0. Use :meth:`~RunnableSequence, e.g., `prompt | llm`` instead.\n",
            "  synthesis_chain = LLMChain(llm=llm, prompt=synthesis_prompt, verbose=True) # llm is from Cell A\n"
          ]
        },
        {
          "data": {
            "text/markdown": [
              "#### Synthesizing Final Answer for: \"What services are ultimately used by the 'IfAuthenticatedDirective', considering services it injects directly, and then services that THOSE directly injected services might inject (one further level deep)?\""
            ],
            "text/plain": [
              "<IPython.core.display.Markdown object>"
            ]
          },
          "metadata": {},
          "output_type": "display_data"
        },
        {
          "name": "stdout",
          "output_type": "stream",
          "text": [
            "\n",
            ">>> Synthesizing final answer. Combined context length: 163 chars.\n",
            "\n",
            "\n",
            "\u001b[1m> Entering new LLMChain chain...\u001b[0m\n",
            "Prompt after formatting:\n",
            "\u001b[32;1m\u001b[1;3mYou are an expert AI assistant.\n",
            "Your task is to answer the 'Original Question' based *only* on the provided 'Context from sub-questions'.\n",
            "Organize your answer clearly. If the context is insufficient or doesn't directly answer the original question, state that clearly. Do not invent information not present in the context.\n",
            "\n",
            "Context from sub-questions:\n",
            "---\n",
            "Information about direct injections for IfAuthenticatedDirective: UserService.\n",
            "\n",
            "Information about services injected by UserService: Router, JwtService, HttpClient.\n",
            "---\n",
            "\n",
            "Original Question: What services are ultimately used by the 'IfAuthenticatedDirective', considering services it injects directly, and then services that THOSE directly injected services might inject (one further level deep)?\n",
            "\n",
            "Final Answer:\u001b[0m\n",
            "\n",
            "\u001b[1m> Finished chain.\u001b[0m\n"
          ]
        },
        {
          "data": {
            "text/markdown": [
              "**Synthesized LLM Answer:** Based on the provided context, here is the answer to the original question:\n",
              "\n",
              "**Directly Injected Services:** The `IfAuthenticatedDirective` injects the following services directly:\n",
              "\n",
              "1. `UserService`\n",
              "\n",
              "**Services Injected by Directly Injected Services:** Since `UserService` is injected into `IfAuthenticatedDirective`, let's look at what services `UserService` injects:\n",
              "\n",
              "1. `Router`\n",
              "2. `JwtService`\n",
              "3. `HttpClient`\n",
              "\n",
              "These services are indirectly used by the `IfAuthenticatedDirective` through its direct injection of the `UserService`.\n",
              "\n",
              "**Final Answer:** The `IfAuthenticatedDirective` ultimately uses the following services:\n",
              "\n",
              "1. `UserService`\n",
              "2. `Router`\n",
              "3. `JwtService`\n",
              "4. `HttpClient`\n",
              "\n",
              "Note that this answer only considers one level deep, as per the original question's request."
            ],
            "text/plain": [
              "<IPython.core.display.Markdown object>"
            ]
          },
          "metadata": {},
          "output_type": "display_data"
        }
      ],
      "source": [
        "# In main.ipynb, NEW Cell (e.g., Cell D, after the previous Q&A loop)\n",
        "\n",
        "from langchain_core.runnables import RunnablePassthrough # Usually for more complex LCEL chains\n",
        "from langchain_core.output_parsers import StrOutputParser # For parsing LLM string output\n",
        "from langchain.chains import LLMChain # ***** ADD THIS IMPORT *****\n",
        "\n",
        "if LANGCHAIN_INTEGRATION_POSSIBLE and graph is not None and llm is not None and 'chain' in locals() and chain is not None:\n",
        "    display(Markdown(\"## 5.2 Handling Complex Questions with Decomposition (Chain of Thought)\\n\"))\n",
        "\n",
        "    # --- Define a Complex Question and its Decomposition ---\n",
        "    # Original complex_question_1 was about HeaderComponent, which had no direct injections in your sample.\n",
        "    # complex_question_1 = \"Which services are ultimately used by the 'HeaderComponent', either directly injected or injected into services that the HeaderComponent itself injects (one level deep for service-to-service injection)?\"\n",
        "    \n",
        "    # Revised complex question targeting IfAuthenticatedDirective which has known injections from your sample\n",
        "    complex_question_2 = \"What services are ultimately used by the 'IfAuthenticatedDirective', considering services it injects directly, and then services that THOSE directly injected services might inject (one further level deep)?\"\n",
        "    \n",
        "    # --- Function to execute a single question and get context ---\n",
        "    def get_context_for_question(q_text, current_qa_chain): # Renamed current_chain to current_qa_chain for clarity\n",
        "        print(f\"\\n>>> Executing sub-question for context: \\\"{q_text}\\\"\")\n",
        "        try:\n",
        "            response = current_qa_chain.invoke({\"query\": q_text})\n",
        "            context = response.get('result', \"No specific information found for this sub-question.\")\n",
        "            print(f\"<<< Context from sub-question: \\\"{context}\\\"\")\n",
        "            return context\n",
        "        except Exception as e:\n",
        "            print(f\"!!! Error executing sub-question '{q_text}': {e}\")\n",
        "            return f\"Error obtaining information for sub-question: {q_text}.\"\n",
        "\n",
        "    # --- Process Complex Question 2 ---\n",
        "    display(Markdown(f\"---\"))\n",
        "    display(Markdown(f\"### Processing Complex Question: {complex_question_2}\"))\n",
        "    collected_contexts_for_synthesis = [] # Store contexts for the final synthesis\n",
        "\n",
        "    # 1. Get services directly injected into IfAuthenticatedDirective\n",
        "    sub_q_direct_injections_text = \"Which services are directly injected into the IfAuthenticatedDirective?\"\n",
        "    context_direct_injections = get_context_for_question(sub_q_direct_injections_text, chain) # 'chain' is our GraphCypherQAChain\n",
        "    \n",
        "    if \"Error obtaining information\" not in context_direct_injections and \"No specific information found\" not in context_direct_injections:\n",
        "        collected_contexts_for_synthesis.append(f\"Information about direct injections for IfAuthenticatedDirective: {context_direct_injections}\")\n",
        "\n",
        "        # 2. Attempt to identify service names from the previous answer and find their dependencies.\n",
        "        #    This requires some form of entity extraction. For this example, we'll make assumptions\n",
        "        #    based on expected output or look for known service names.\n",
        "        #    Your JSON sample showed IfAuthenticatedDirective injects UserService.\n",
        "        \n",
        "        # A very basic way to \"extract\" a service name (highly unreliable for general LLM output):\n",
        "        # In a real system, use a dedicated LLM call for extraction or prompt the QA chain to list names clearly.\n",
        "        directly_injected_service_names = []\n",
        "        if \"UserService\" in context_direct_injections: # Example: if \"UserService\" is mentioned\n",
        "            directly_injected_service_names.append(\"UserService\")\n",
        "        # Add more robust extraction if needed, e.g., using regex if the format is predictable, or another LLM call.\n",
        "\n",
        "        if not directly_injected_service_names:\n",
        "            print(\"Could not reliably identify specific service names from the direct injection context. Skipping second-level injection checks for now.\")\n",
        "        \n",
        "        for service_name in directly_injected_service_names:\n",
        "            sub_q_service_dependencies_text = f\"What services does the {service_name} inject?\" # Dynamic sub-question\n",
        "            context_service_dependencies = get_context_for_question(sub_q_service_dependencies_text, chain)\n",
        "            if \"Error obtaining information\" not in context_service_dependencies and \"No specific information found\" not in context_service_dependencies:\n",
        "                 collected_contexts_for_synthesis.append(f\"Information about services injected by {service_name}: {context_service_dependencies}\")\n",
        "    else:\n",
        "        print(f\"Could not get initial context for direct injections of IfAuthenticatedDirective. Context received: {context_direct_injections}\")\n",
        "\n",
        "\n",
        "    # 3. Synthesize the final answer using the collected contexts\n",
        "    if collected_contexts_for_synthesis:\n",
        "        final_context_str = \"\\n\\n\".join(collected_contexts_for_synthesis)\n",
        "        \n",
        "        SYNTHESIS_PROMPT_TEMPLATE = \"\"\"You are an expert AI assistant.\n",
        "Your task is to answer the 'Original Question' based *only* on the provided 'Context from sub-questions'.\n",
        "Organize your answer clearly. If the context is insufficient or doesn't directly answer the original question, state that clearly. Do not invent information not present in the context.\n",
        "\n",
        "Context from sub-questions:\n",
        "---\n",
        "{collected_sub_contexts}\n",
        "---\n",
        "\n",
        "Original Question: {original_question}\n",
        "\n",
        "Final Answer:\"\"\"\n",
        "\n",
        "        synthesis_prompt = PromptTemplate(\n",
        "            input_variables=[\"collected_sub_contexts\", \"original_question\"],\n",
        "            template=SYNTHESIS_PROMPT_TEMPLATE\n",
        "        )\n",
        "\n",
        "        # Create a simple LLMChain for the synthesis step\n",
        "        synthesis_chain = LLMChain(llm=llm, prompt=synthesis_prompt, verbose=True)\n",
        "\n",
        "        display(Markdown(f\"#### Synthesizing Final Answer for: \\\"{complex_question_2}\\\"\"))\n",
        "        print(f\"\\n>>> Synthesizing final answer. Combined context length: {len(final_context_str)} chars.\")\n",
        "        try:\n",
        "            final_answer_response = synthesis_chain.invoke({\n",
        "                \"collected_sub_contexts\": final_context_str,\n",
        "                \"original_question\": complex_question_2\n",
        "            })\n",
        "            # LLMChain output is a dict, the answer is usually in the 'text' key\n",
        "            final_answer = final_answer_response.get('text', \"Could not synthesize an answer from the LLM.\")\n",
        "            display(Markdown(f\"**Synthesized LLM Answer:** {final_answer}\"))\n",
        "        except Exception as e:\n",
        "            print(f\"!!! Error during final answer synthesis for complex question: {e}\")\n",
        "            display(Markdown(f\"<font color='red'>Error during synthesis: {e}</font>\"))\n",
        "    else:\n",
        "        display(Markdown(\"<font color='orange'>**No contexts were collected for the complex question, cannot synthesize a final answer.**</font>\"))\n",
        "\n",
        "else:\n",
        "    display(Markdown(\"<font color='orange'>**Skipping Complex Question Decomposition example as prerequisites (LangChain components, Neo4j/Ollama connection, or 'chain' object) are not met.**</font>\"))"
      ]
    },
    {
      "cell_type": "code",
      "execution_count": null,
      "id": "b67fe537",
      "metadata": {},
      "outputs": [],
      "source": []
    }
  ],
  "metadata": {
    "kernelspec": {
      "display_name": ".venv",
      "language": "python",
      "name": "python3"
    },
    "language_info": {
      "codemirror_mode": {
        "name": "ipython",
        "version": 3
      },
      "file_extension": ".py",
      "mimetype": "text/x-python",
      "name": "python",
      "nbconvert_exporter": "python",
      "pygments_lexer": "ipython3",
      "version": "3.11.6"
    }
  },
  "nbformat": 4,
  "nbformat_minor": 5
}
